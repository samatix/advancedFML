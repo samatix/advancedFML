{
 "cells": [
  {
   "cell_type": "code",
   "execution_count": 30,
   "metadata": {},
   "outputs": [],
   "source": [
    "import numpy as np\n",
    "import pandas as pd \n",
    "from scipy import stats\n",
    "\n",
    "import matplotlib as mpl\n",
    "import matplotlib.pyplot as plt\n",
    "\n",
    "%matplotlib inline\n",
    "plt.style.use('ggplot')\n",
    "plt.style.use('ggplot')\n",
    "plt.rcParams['figure.figsize'] = 10,7\n",
    "\n",
    "import sys\n",
    "sys.path.append('/Users/ayoubennassiri/Documents/Projects/advancedFML/')\n",
    "sys.path.append('/Users/ayoubennassiri/Documents/Projects/advancedFML/src')"
   ]
  },
  {
   "cell_type": "markdown",
   "metadata": {},
   "source": [
    "## Load the data"
   ]
  },
  {
   "cell_type": "code",
   "execution_count": 2,
   "metadata": {},
   "outputs": [],
   "source": [
    "clean_data_path = '../data/processed/clean_IVE_tickbidask.parq'\n",
    "#clean_data_path = '../data/processed/clean_WDC_tickbidask.parq'\n",
    "df = pd.read_parquet(clean_data_path)"
   ]
  },
  {
   "cell_type": "code",
   "execution_count": 3,
   "metadata": {},
   "outputs": [
    {
     "data": {
      "text/html": [
       "<div>\n",
       "<style scoped>\n",
       "    .dataframe tbody tr th:only-of-type {\n",
       "        vertical-align: middle;\n",
       "    }\n",
       "\n",
       "    .dataframe tbody tr th {\n",
       "        vertical-align: top;\n",
       "    }\n",
       "\n",
       "    .dataframe thead th {\n",
       "        text-align: right;\n",
       "    }\n",
       "</style>\n",
       "<table border=\"1\" class=\"dataframe\">\n",
       "  <thead>\n",
       "    <tr style=\"text-align: right;\">\n",
       "      <th></th>\n",
       "      <th>price</th>\n",
       "      <th>bid</th>\n",
       "      <th>ask</th>\n",
       "      <th>vol</th>\n",
       "      <th>dollar_vol</th>\n",
       "    </tr>\n",
       "    <tr>\n",
       "      <th>date</th>\n",
       "      <th></th>\n",
       "      <th></th>\n",
       "      <th></th>\n",
       "      <th></th>\n",
       "      <th></th>\n",
       "    </tr>\n",
       "  </thead>\n",
       "  <tbody>\n",
       "    <tr>\n",
       "      <th>2019-03-18 15:49:35</th>\n",
       "      <td>114.4643</td>\n",
       "      <td>114.46</td>\n",
       "      <td>114.47</td>\n",
       "      <td>500</td>\n",
       "      <td>57232.1500</td>\n",
       "    </tr>\n",
       "    <tr>\n",
       "      <th>2019-03-18 15:49:35</th>\n",
       "      <td>114.4643</td>\n",
       "      <td>114.46</td>\n",
       "      <td>114.47</td>\n",
       "      <td>2520</td>\n",
       "      <td>288450.0360</td>\n",
       "    </tr>\n",
       "    <tr>\n",
       "      <th>2019-03-18 15:51:07</th>\n",
       "      <td>114.4300</td>\n",
       "      <td>114.43</td>\n",
       "      <td>114.44</td>\n",
       "      <td>377</td>\n",
       "      <td>43140.1100</td>\n",
       "    </tr>\n",
       "    <tr>\n",
       "      <th>2019-03-18 15:51:59</th>\n",
       "      <td>114.4276</td>\n",
       "      <td>114.42</td>\n",
       "      <td>114.43</td>\n",
       "      <td>210</td>\n",
       "      <td>24029.7960</td>\n",
       "    </tr>\n",
       "    <tr>\n",
       "      <th>2019-03-18 15:53:11</th>\n",
       "      <td>114.4180</td>\n",
       "      <td>114.41</td>\n",
       "      <td>114.42</td>\n",
       "      <td>137</td>\n",
       "      <td>15675.2660</td>\n",
       "    </tr>\n",
       "    <tr>\n",
       "      <th>2019-03-18 15:53:49</th>\n",
       "      <td>114.4100</td>\n",
       "      <td>114.41</td>\n",
       "      <td>114.41</td>\n",
       "      <td>200</td>\n",
       "      <td>22882.0000</td>\n",
       "    </tr>\n",
       "    <tr>\n",
       "      <th>2019-03-18 15:54:00</th>\n",
       "      <td>114.4200</td>\n",
       "      <td>114.41</td>\n",
       "      <td>114.42</td>\n",
       "      <td>147</td>\n",
       "      <td>16819.7400</td>\n",
       "    </tr>\n",
       "    <tr>\n",
       "      <th>2019-03-18 15:54:00</th>\n",
       "      <td>114.4300</td>\n",
       "      <td>114.42</td>\n",
       "      <td>114.43</td>\n",
       "      <td>2100</td>\n",
       "      <td>240303.0000</td>\n",
       "    </tr>\n",
       "    <tr>\n",
       "      <th>2019-03-18 15:54:01</th>\n",
       "      <td>114.4200</td>\n",
       "      <td>114.42</td>\n",
       "      <td>114.42</td>\n",
       "      <td>300</td>\n",
       "      <td>34326.0000</td>\n",
       "    </tr>\n",
       "    <tr>\n",
       "      <th>2019-03-18 15:55:00</th>\n",
       "      <td>114.3900</td>\n",
       "      <td>114.39</td>\n",
       "      <td>114.40</td>\n",
       "      <td>147</td>\n",
       "      <td>16815.3300</td>\n",
       "    </tr>\n",
       "    <tr>\n",
       "      <th>2019-03-18 15:55:00</th>\n",
       "      <td>114.3700</td>\n",
       "      <td>114.38</td>\n",
       "      <td>114.39</td>\n",
       "      <td>200</td>\n",
       "      <td>22874.0000</td>\n",
       "    </tr>\n",
       "    <tr>\n",
       "      <th>2019-03-18 15:55:00</th>\n",
       "      <td>114.3700</td>\n",
       "      <td>114.38</td>\n",
       "      <td>114.39</td>\n",
       "      <td>1163</td>\n",
       "      <td>133012.3100</td>\n",
       "    </tr>\n",
       "    <tr>\n",
       "      <th>2019-03-18 15:55:00</th>\n",
       "      <td>114.3900</td>\n",
       "      <td>114.38</td>\n",
       "      <td>114.39</td>\n",
       "      <td>393</td>\n",
       "      <td>44955.2700</td>\n",
       "    </tr>\n",
       "    <tr>\n",
       "      <th>2019-03-18 15:56:03</th>\n",
       "      <td>114.3700</td>\n",
       "      <td>114.37</td>\n",
       "      <td>114.38</td>\n",
       "      <td>129</td>\n",
       "      <td>14753.7300</td>\n",
       "    </tr>\n",
       "    <tr>\n",
       "      <th>2019-03-18 15:56:25</th>\n",
       "      <td>114.3700</td>\n",
       "      <td>114.37</td>\n",
       "      <td>114.38</td>\n",
       "      <td>330</td>\n",
       "      <td>37742.1000</td>\n",
       "    </tr>\n",
       "    <tr>\n",
       "      <th>2019-03-18 15:56:25</th>\n",
       "      <td>114.3700</td>\n",
       "      <td>114.37</td>\n",
       "      <td>114.38</td>\n",
       "      <td>191</td>\n",
       "      <td>21844.6700</td>\n",
       "    </tr>\n",
       "    <tr>\n",
       "      <th>2019-03-18 15:56:27</th>\n",
       "      <td>114.3800</td>\n",
       "      <td>114.37</td>\n",
       "      <td>114.38</td>\n",
       "      <td>173</td>\n",
       "      <td>19787.7400</td>\n",
       "    </tr>\n",
       "    <tr>\n",
       "      <th>2019-03-18 15:56:39</th>\n",
       "      <td>114.3805</td>\n",
       "      <td>114.38</td>\n",
       "      <td>114.39</td>\n",
       "      <td>100</td>\n",
       "      <td>11438.0500</td>\n",
       "    </tr>\n",
       "    <tr>\n",
       "      <th>2019-03-18 15:57:14</th>\n",
       "      <td>114.3799</td>\n",
       "      <td>114.37</td>\n",
       "      <td>114.38</td>\n",
       "      <td>905</td>\n",
       "      <td>103513.8095</td>\n",
       "    </tr>\n",
       "    <tr>\n",
       "      <th>2019-03-18 15:57:44</th>\n",
       "      <td>114.3799</td>\n",
       "      <td>114.37</td>\n",
       "      <td>114.38</td>\n",
       "      <td>138</td>\n",
       "      <td>15784.4262</td>\n",
       "    </tr>\n",
       "    <tr>\n",
       "      <th>2019-03-18 15:58:05</th>\n",
       "      <td>114.3650</td>\n",
       "      <td>114.37</td>\n",
       "      <td>114.37</td>\n",
       "      <td>100</td>\n",
       "      <td>11436.5000</td>\n",
       "    </tr>\n",
       "    <tr>\n",
       "      <th>2019-03-18 15:59:14</th>\n",
       "      <td>114.3800</td>\n",
       "      <td>114.37</td>\n",
       "      <td>114.38</td>\n",
       "      <td>175</td>\n",
       "      <td>20016.5000</td>\n",
       "    </tr>\n",
       "    <tr>\n",
       "      <th>2019-03-18 15:59:45</th>\n",
       "      <td>114.4000</td>\n",
       "      <td>114.39</td>\n",
       "      <td>114.40</td>\n",
       "      <td>149</td>\n",
       "      <td>17045.6000</td>\n",
       "    </tr>\n",
       "    <tr>\n",
       "      <th>2019-03-18 15:59:49</th>\n",
       "      <td>114.4050</td>\n",
       "      <td>114.40</td>\n",
       "      <td>114.41</td>\n",
       "      <td>2729</td>\n",
       "      <td>312211.2450</td>\n",
       "    </tr>\n",
       "    <tr>\n",
       "      <th>2019-03-18 15:59:50</th>\n",
       "      <td>114.4000</td>\n",
       "      <td>114.40</td>\n",
       "      <td>114.42</td>\n",
       "      <td>300</td>\n",
       "      <td>34320.0000</td>\n",
       "    </tr>\n",
       "    <tr>\n",
       "      <th>2019-03-18 15:59:59</th>\n",
       "      <td>114.4100</td>\n",
       "      <td>114.40</td>\n",
       "      <td>114.42</td>\n",
       "      <td>127</td>\n",
       "      <td>14530.0700</td>\n",
       "    </tr>\n",
       "    <tr>\n",
       "      <th>2019-03-18 16:00:00</th>\n",
       "      <td>114.4000</td>\n",
       "      <td>114.40</td>\n",
       "      <td>114.42</td>\n",
       "      <td>1272</td>\n",
       "      <td>145516.8000</td>\n",
       "    </tr>\n",
       "    <tr>\n",
       "      <th>2019-03-18 16:10:00</th>\n",
       "      <td>114.4000</td>\n",
       "      <td>114.08</td>\n",
       "      <td>114.68</td>\n",
       "      <td>0</td>\n",
       "      <td>0.0000</td>\n",
       "    </tr>\n",
       "    <tr>\n",
       "      <th>2019-03-18 18:30:00</th>\n",
       "      <td>114.4000</td>\n",
       "      <td>112.77</td>\n",
       "      <td>115.19</td>\n",
       "      <td>0</td>\n",
       "      <td>0.0000</td>\n",
       "    </tr>\n",
       "    <tr>\n",
       "      <th>2019-03-18 20:00:00</th>\n",
       "      <td>114.4000</td>\n",
       "      <td>112.77</td>\n",
       "      <td>115.08</td>\n",
       "      <td>0</td>\n",
       "      <td>0.0000</td>\n",
       "    </tr>\n",
       "  </tbody>\n",
       "</table>\n",
       "</div>"
      ],
      "text/plain": [
       "                        price     bid     ask   vol   dollar_vol\n",
       "date                                                            \n",
       "2019-03-18 15:49:35  114.4643  114.46  114.47   500   57232.1500\n",
       "2019-03-18 15:49:35  114.4643  114.46  114.47  2520  288450.0360\n",
       "2019-03-18 15:51:07  114.4300  114.43  114.44   377   43140.1100\n",
       "2019-03-18 15:51:59  114.4276  114.42  114.43   210   24029.7960\n",
       "2019-03-18 15:53:11  114.4180  114.41  114.42   137   15675.2660\n",
       "2019-03-18 15:53:49  114.4100  114.41  114.41   200   22882.0000\n",
       "2019-03-18 15:54:00  114.4200  114.41  114.42   147   16819.7400\n",
       "2019-03-18 15:54:00  114.4300  114.42  114.43  2100  240303.0000\n",
       "2019-03-18 15:54:01  114.4200  114.42  114.42   300   34326.0000\n",
       "2019-03-18 15:55:00  114.3900  114.39  114.40   147   16815.3300\n",
       "2019-03-18 15:55:00  114.3700  114.38  114.39   200   22874.0000\n",
       "2019-03-18 15:55:00  114.3700  114.38  114.39  1163  133012.3100\n",
       "2019-03-18 15:55:00  114.3900  114.38  114.39   393   44955.2700\n",
       "2019-03-18 15:56:03  114.3700  114.37  114.38   129   14753.7300\n",
       "2019-03-18 15:56:25  114.3700  114.37  114.38   330   37742.1000\n",
       "2019-03-18 15:56:25  114.3700  114.37  114.38   191   21844.6700\n",
       "2019-03-18 15:56:27  114.3800  114.37  114.38   173   19787.7400\n",
       "2019-03-18 15:56:39  114.3805  114.38  114.39   100   11438.0500\n",
       "2019-03-18 15:57:14  114.3799  114.37  114.38   905  103513.8095\n",
       "2019-03-18 15:57:44  114.3799  114.37  114.38   138   15784.4262\n",
       "2019-03-18 15:58:05  114.3650  114.37  114.37   100   11436.5000\n",
       "2019-03-18 15:59:14  114.3800  114.37  114.38   175   20016.5000\n",
       "2019-03-18 15:59:45  114.4000  114.39  114.40   149   17045.6000\n",
       "2019-03-18 15:59:49  114.4050  114.40  114.41  2729  312211.2450\n",
       "2019-03-18 15:59:50  114.4000  114.40  114.42   300   34320.0000\n",
       "2019-03-18 15:59:59  114.4100  114.40  114.42   127   14530.0700\n",
       "2019-03-18 16:00:00  114.4000  114.40  114.42  1272  145516.8000\n",
       "2019-03-18 16:10:00  114.4000  114.08  114.68     0       0.0000\n",
       "2019-03-18 18:30:00  114.4000  112.77  115.19     0       0.0000\n",
       "2019-03-18 20:00:00  114.4000  112.77  115.08     0       0.0000"
      ]
     },
     "execution_count": 3,
     "metadata": {},
     "output_type": "execute_result"
    }
   ],
   "source": [
    "x = df.tail(30)\n",
    "x"
   ]
  },
  {
   "cell_type": "code",
   "execution_count": 4,
   "metadata": {},
   "outputs": [
    {
     "data": {
      "image/png": "[encoded data removed]",
      "text/plain": [
       "<Figure size 432x288 with 1 Axes>"
      ]
     },
     "metadata": {},
     "output_type": "display_data"
    }
   ],
   "source": [
    "from src.visualization.candle import plot_candlestick_ohlc\n",
    "\n",
    "df_ohlc = df.price.resample('1M').ohlc() \n",
    "\n",
    "fig, ax = plt.subplots()\n",
    "plot_candlestick_ohlc(df_ohlc, ax, width=18)"
   ]
  },
  {
   "cell_type": "markdown",
   "metadata": {},
   "source": [
    "### Use the ETF trick to deal with the roll\n",
    "The data loaded are already ETF https://www.ishares.com/us/products/239728/ishares-sp-500-value-etf\n",
    "TODO: Add example on any available stock."
   ]
  },
  {
   "cell_type": "markdown",
   "metadata": {},
   "source": [
    "## Bars"
   ]
  },
  {
   "cell_type": "code",
   "execution_count": 5,
   "metadata": {},
   "outputs": [],
   "source": [
    "from features.bars import tick_bar\n",
    "from features.bars import volume_bar\n",
    "from features.bars import dollar_bar"
   ]
  },
  {
   "cell_type": "markdown",
   "metadata": {},
   "source": [
    "### Tick Bar"
   ]
  },
  {
   "cell_type": "code",
   "execution_count": 6,
   "metadata": {},
   "outputs": [
    {
     "data": {
      "text/html": [
       "<div>\n",
       "<style scoped>\n",
       "    .dataframe tbody tr th:only-of-type {\n",
       "        vertical-align: middle;\n",
       "    }\n",
       "\n",
       "    .dataframe tbody tr th {\n",
       "        vertical-align: top;\n",
       "    }\n",
       "\n",
       "    .dataframe thead th {\n",
       "        text-align: right;\n",
       "    }\n",
       "</style>\n",
       "<table border=\"1\" class=\"dataframe\">\n",
       "  <thead>\n",
       "    <tr style=\"text-align: right;\">\n",
       "      <th></th>\n",
       "      <th>price</th>\n",
       "      <th>bid</th>\n",
       "      <th>ask</th>\n",
       "      <th>vol</th>\n",
       "      <th>dollar_vol</th>\n",
       "    </tr>\n",
       "    <tr>\n",
       "      <th>date</th>\n",
       "      <th></th>\n",
       "      <th></th>\n",
       "      <th></th>\n",
       "      <th></th>\n",
       "      <th></th>\n",
       "    </tr>\n",
       "  </thead>\n",
       "  <tbody>\n",
       "    <tr>\n",
       "      <th>2019-03-18 15:49:35</th>\n",
       "      <td>114.4643</td>\n",
       "      <td>114.46</td>\n",
       "      <td>114.47</td>\n",
       "      <td>500</td>\n",
       "      <td>57232.15</td>\n",
       "    </tr>\n",
       "    <tr>\n",
       "      <th>2019-03-18 15:55:00</th>\n",
       "      <td>114.3700</td>\n",
       "      <td>114.38</td>\n",
       "      <td>114.39</td>\n",
       "      <td>200</td>\n",
       "      <td>22874.00</td>\n",
       "    </tr>\n",
       "    <tr>\n",
       "      <th>2019-03-18 15:58:05</th>\n",
       "      <td>114.3650</td>\n",
       "      <td>114.37</td>\n",
       "      <td>114.37</td>\n",
       "      <td>100</td>\n",
       "      <td>11436.50</td>\n",
       "    </tr>\n",
       "  </tbody>\n",
       "</table>\n",
       "</div>"
      ],
      "text/plain": [
       "                        price     bid     ask  vol  dollar_vol\n",
       "date                                                          \n",
       "2019-03-18 15:49:35  114.4643  114.46  114.47  500    57232.15\n",
       "2019-03-18 15:55:00  114.3700  114.38  114.39  200    22874.00\n",
       "2019-03-18 15:58:05  114.3650  114.37  114.37  100    11436.50"
      ]
     },
     "execution_count": 6,
     "metadata": {},
     "output_type": "execute_result"
    }
   ],
   "source": [
    "m = 10\n",
    "tick_df = tick_bar(df, m)\n",
    "tick_x = tick_bar(x, m)\n",
    "tick_x"
   ]
  },
  {
   "cell_type": "markdown",
   "metadata": {},
   "source": [
    "You can see that tick took samples every 10 transactions"
   ]
  },
  {
   "cell_type": "markdown",
   "metadata": {},
   "source": [
    "### Volume Bar"
   ]
  },
  {
   "cell_type": "code",
   "execution_count": 7,
   "metadata": {},
   "outputs": [],
   "source": [
    "m = 1_000\n",
    "vol_df = volume_bar(df, m)\n",
    "vol_x = volume_bar(x, m)"
   ]
  },
  {
   "cell_type": "code",
   "execution_count": 8,
   "metadata": {},
   "outputs": [
    {
     "data": {
      "text/html": [
       "<div>\n",
       "<style scoped>\n",
       "    .dataframe tbody tr th:only-of-type {\n",
       "        vertical-align: middle;\n",
       "    }\n",
       "\n",
       "    .dataframe tbody tr th {\n",
       "        vertical-align: top;\n",
       "    }\n",
       "\n",
       "    .dataframe thead th {\n",
       "        text-align: right;\n",
       "    }\n",
       "</style>\n",
       "<table border=\"1\" class=\"dataframe\">\n",
       "  <thead>\n",
       "    <tr style=\"text-align: right;\">\n",
       "      <th></th>\n",
       "      <th>price</th>\n",
       "      <th>bid</th>\n",
       "      <th>ask</th>\n",
       "      <th>vol</th>\n",
       "      <th>dollar_vol</th>\n",
       "      <th>cum_vol</th>\n",
       "    </tr>\n",
       "    <tr>\n",
       "      <th>date</th>\n",
       "      <th></th>\n",
       "      <th></th>\n",
       "      <th></th>\n",
       "      <th></th>\n",
       "      <th></th>\n",
       "      <th></th>\n",
       "    </tr>\n",
       "  </thead>\n",
       "  <tbody>\n",
       "    <tr>\n",
       "      <th>2019-03-18 15:49:35</th>\n",
       "      <td>114.4643</td>\n",
       "      <td>114.46</td>\n",
       "      <td>114.47</td>\n",
       "      <td>2520</td>\n",
       "      <td>288450.0360</td>\n",
       "      <td>3020</td>\n",
       "    </tr>\n",
       "    <tr>\n",
       "      <th>2019-03-18 15:54:00</th>\n",
       "      <td>114.4200</td>\n",
       "      <td>114.41</td>\n",
       "      <td>114.42</td>\n",
       "      <td>147</td>\n",
       "      <td>16819.7400</td>\n",
       "      <td>1071</td>\n",
       "    </tr>\n",
       "    <tr>\n",
       "      <th>2019-03-18 15:54:00</th>\n",
       "      <td>114.4300</td>\n",
       "      <td>114.42</td>\n",
       "      <td>114.43</td>\n",
       "      <td>2100</td>\n",
       "      <td>240303.0000</td>\n",
       "      <td>2100</td>\n",
       "    </tr>\n",
       "    <tr>\n",
       "      <th>2019-03-18 15:55:00</th>\n",
       "      <td>114.3700</td>\n",
       "      <td>114.38</td>\n",
       "      <td>114.39</td>\n",
       "      <td>1163</td>\n",
       "      <td>133012.3100</td>\n",
       "      <td>1810</td>\n",
       "    </tr>\n",
       "    <tr>\n",
       "      <th>2019-03-18 15:56:25</th>\n",
       "      <td>114.3700</td>\n",
       "      <td>114.37</td>\n",
       "      <td>114.38</td>\n",
       "      <td>191</td>\n",
       "      <td>21844.6700</td>\n",
       "      <td>1043</td>\n",
       "    </tr>\n",
       "    <tr>\n",
       "      <th>2019-03-18 15:57:14</th>\n",
       "      <td>114.3799</td>\n",
       "      <td>114.37</td>\n",
       "      <td>114.38</td>\n",
       "      <td>905</td>\n",
       "      <td>103513.8095</td>\n",
       "      <td>1178</td>\n",
       "    </tr>\n",
       "    <tr>\n",
       "      <th>2019-03-18 15:59:49</th>\n",
       "      <td>114.4050</td>\n",
       "      <td>114.40</td>\n",
       "      <td>114.41</td>\n",
       "      <td>2729</td>\n",
       "      <td>312211.2450</td>\n",
       "      <td>3291</td>\n",
       "    </tr>\n",
       "    <tr>\n",
       "      <th>2019-03-18 16:00:00</th>\n",
       "      <td>114.4000</td>\n",
       "      <td>114.40</td>\n",
       "      <td>114.42</td>\n",
       "      <td>1272</td>\n",
       "      <td>145516.8000</td>\n",
       "      <td>1699</td>\n",
       "    </tr>\n",
       "  </tbody>\n",
       "</table>\n",
       "</div>"
      ],
      "text/plain": [
       "                        price     bid     ask   vol   dollar_vol  cum_vol\n",
       "date                                                                     \n",
       "2019-03-18 15:49:35  114.4643  114.46  114.47  2520  288450.0360     3020\n",
       "2019-03-18 15:54:00  114.4200  114.41  114.42   147   16819.7400     1071\n",
       "2019-03-18 15:54:00  114.4300  114.42  114.43  2100  240303.0000     2100\n",
       "2019-03-18 15:55:00  114.3700  114.38  114.39  1163  133012.3100     1810\n",
       "2019-03-18 15:56:25  114.3700  114.37  114.38   191   21844.6700     1043\n",
       "2019-03-18 15:57:14  114.3799  114.37  114.38   905  103513.8095     1178\n",
       "2019-03-18 15:59:49  114.4050  114.40  114.41  2729  312211.2450     3291\n",
       "2019-03-18 16:00:00  114.4000  114.40  114.42  1272  145516.8000     1699"
      ]
     },
     "execution_count": 8,
     "metadata": {},
     "output_type": "execute_result"
    }
   ],
   "source": [
    "vol_x"
   ]
  },
  {
   "cell_type": "markdown",
   "metadata": {},
   "source": [
    "The tick volume in bars for the sample data has a cumulative volume bigger than the threshold m"
   ]
  },
  {
   "cell_type": "markdown",
   "metadata": {},
   "source": [
    "### Dollar Bar"
   ]
  },
  {
   "cell_type": "code",
   "execution_count": 9,
   "metadata": {},
   "outputs": [],
   "source": [
    "minute_df = df.price.resample('min').ohlc().dropna()\n",
    "\n",
    "m = 100_000\n",
    "dollar_df = dollar_bar(df, m)\n",
    "dollar_x = dollar_bar(x, m)"
   ]
  },
  {
   "cell_type": "code",
   "execution_count": 10,
   "metadata": {},
   "outputs": [
    {
     "data": {
      "text/html": [
       "<div>\n",
       "<style scoped>\n",
       "    .dataframe tbody tr th:only-of-type {\n",
       "        vertical-align: middle;\n",
       "    }\n",
       "\n",
       "    .dataframe tbody tr th {\n",
       "        vertical-align: top;\n",
       "    }\n",
       "\n",
       "    .dataframe thead th {\n",
       "        text-align: right;\n",
       "    }\n",
       "</style>\n",
       "<table border=\"1\" class=\"dataframe\">\n",
       "  <thead>\n",
       "    <tr style=\"text-align: right;\">\n",
       "      <th></th>\n",
       "      <th>price</th>\n",
       "      <th>bid</th>\n",
       "      <th>ask</th>\n",
       "      <th>vol</th>\n",
       "      <th>dollar_vol</th>\n",
       "      <th>cum_dollar_vol</th>\n",
       "    </tr>\n",
       "    <tr>\n",
       "      <th>date</th>\n",
       "      <th></th>\n",
       "      <th></th>\n",
       "      <th></th>\n",
       "      <th></th>\n",
       "      <th></th>\n",
       "      <th></th>\n",
       "    </tr>\n",
       "  </thead>\n",
       "  <tbody>\n",
       "    <tr>\n",
       "      <th>2019-03-18 15:49:35</th>\n",
       "      <td>114.4643</td>\n",
       "      <td>114.46</td>\n",
       "      <td>114.47</td>\n",
       "      <td>2520</td>\n",
       "      <td>288450.0360</td>\n",
       "      <td>345682.1860</td>\n",
       "    </tr>\n",
       "    <tr>\n",
       "      <th>2019-03-18 15:53:49</th>\n",
       "      <td>114.4100</td>\n",
       "      <td>114.41</td>\n",
       "      <td>114.41</td>\n",
       "      <td>200</td>\n",
       "      <td>22882.0000</td>\n",
       "      <td>105727.1720</td>\n",
       "    </tr>\n",
       "    <tr>\n",
       "      <th>2019-03-18 15:54:00</th>\n",
       "      <td>114.4300</td>\n",
       "      <td>114.42</td>\n",
       "      <td>114.43</td>\n",
       "      <td>2100</td>\n",
       "      <td>240303.0000</td>\n",
       "      <td>257122.7400</td>\n",
       "    </tr>\n",
       "    <tr>\n",
       "      <th>2019-03-18 15:55:00</th>\n",
       "      <td>114.3700</td>\n",
       "      <td>114.38</td>\n",
       "      <td>114.39</td>\n",
       "      <td>1163</td>\n",
       "      <td>133012.3100</td>\n",
       "      <td>207027.6400</td>\n",
       "    </tr>\n",
       "    <tr>\n",
       "      <th>2019-03-18 15:56:25</th>\n",
       "      <td>114.3700</td>\n",
       "      <td>114.37</td>\n",
       "      <td>114.38</td>\n",
       "      <td>191</td>\n",
       "      <td>21844.6700</td>\n",
       "      <td>119295.7700</td>\n",
       "    </tr>\n",
       "    <tr>\n",
       "      <th>2019-03-18 15:57:14</th>\n",
       "      <td>114.3799</td>\n",
       "      <td>114.37</td>\n",
       "      <td>114.38</td>\n",
       "      <td>905</td>\n",
       "      <td>103513.8095</td>\n",
       "      <td>134739.5995</td>\n",
       "    </tr>\n",
       "    <tr>\n",
       "      <th>2019-03-18 15:59:49</th>\n",
       "      <td>114.4050</td>\n",
       "      <td>114.40</td>\n",
       "      <td>114.41</td>\n",
       "      <td>2729</td>\n",
       "      <td>312211.2450</td>\n",
       "      <td>376494.2712</td>\n",
       "    </tr>\n",
       "    <tr>\n",
       "      <th>2019-03-18 16:00:00</th>\n",
       "      <td>114.4000</td>\n",
       "      <td>114.40</td>\n",
       "      <td>114.42</td>\n",
       "      <td>1272</td>\n",
       "      <td>145516.8000</td>\n",
       "      <td>194366.8700</td>\n",
       "    </tr>\n",
       "  </tbody>\n",
       "</table>\n",
       "</div>"
      ],
      "text/plain": [
       "                        price     bid     ask   vol   dollar_vol  \\\n",
       "date                                                               \n",
       "2019-03-18 15:49:35  114.4643  114.46  114.47  2520  288450.0360   \n",
       "2019-03-18 15:53:49  114.4100  114.41  114.41   200   22882.0000   \n",
       "2019-03-18 15:54:00  114.4300  114.42  114.43  2100  240303.0000   \n",
       "2019-03-18 15:55:00  114.3700  114.38  114.39  1163  133012.3100   \n",
       "2019-03-18 15:56:25  114.3700  114.37  114.38   191   21844.6700   \n",
       "2019-03-18 15:57:14  114.3799  114.37  114.38   905  103513.8095   \n",
       "2019-03-18 15:59:49  114.4050  114.40  114.41  2729  312211.2450   \n",
       "2019-03-18 16:00:00  114.4000  114.40  114.42  1272  145516.8000   \n",
       "\n",
       "                     cum_dollar_vol  \n",
       "date                                 \n",
       "2019-03-18 15:49:35     345682.1860  \n",
       "2019-03-18 15:53:49     105727.1720  \n",
       "2019-03-18 15:54:00     257122.7400  \n",
       "2019-03-18 15:55:00     207027.6400  \n",
       "2019-03-18 15:56:25     119295.7700  \n",
       "2019-03-18 15:57:14     134739.5995  \n",
       "2019-03-18 15:59:49     376494.2712  \n",
       "2019-03-18 16:00:00     194366.8700  "
      ]
     },
     "execution_count": 10,
     "metadata": {},
     "output_type": "execute_result"
    }
   ],
   "source": [
    "dollar_x"
   ]
  },
  {
   "cell_type": "markdown",
   "metadata": {},
   "source": [
    "The tick dollar bar depends on the threshold defined (100k dollars) and samples the price whenever this threshold is reached. "
   ]
  },
  {
   "cell_type": "code",
   "execution_count": 11,
   "metadata": {},
   "outputs": [
    {
     "name": "stdout",
     "output_type": "stream",
     "text": [
      "Period : 2009-09-28 09:30:00, 2019-03-18 20:00:00\n",
      "Shape of the initial data : (1578361, 5), minute selected : (569452, 4)\n",
      "Shape of the tick bars : (157837, 5)\n",
      "Shape of the volume bars  : (452592, 6)\n",
      "Shape of the dollar bars : (399036, 6)\n"
     ]
    }
   ],
   "source": [
    "print(f\"Period : {tick_df.index[0]}, {tick_df.index[-1]}\")\n",
    "print(f\"Shape of the initial data : {df.shape}, minute selected : {minute_df.shape}\")\n",
    "print(f\"Shape of the tick bars : {tick_df.shape}\")\n",
    "print(f\"Shape of the volume bars  : {vol_df.shape}\")\n",
    "print(f\"Shape of the dollar bars : {dollar_df.shape}\")"
   ]
  },
  {
   "cell_type": "code",
   "execution_count": 12,
   "metadata": {},
   "outputs": [
    {
     "data": {
      "text/plain": [
       "<matplotlib.axes._subplots.AxesSubplot at 0x1a1cc51a20>"
      ]
     },
     "execution_count": 12,
     "metadata": {},
     "output_type": "execute_result"
    },
    {
     "data": {
      "image/png": "[encoded data removed]",
      "text/plain": [
       "<Figure size 1440x720 with 1 Axes>"
      ]
     },
     "metadata": {},
     "output_type": "display_data"
    }
   ],
   "source": [
    "s_date='2019-01-01 8:00:00'\n",
    "e_date='2019-03-18 18:40:00'\n",
    "plt.figure(figsize=(20,10))\n",
    "df.loc[s_date:e_date].price.plot(marker='o',\n",
    "                                 ms=3,\n",
    "                                 color='b',\n",
    "                                 alpha=0.2,\n",
    "                                 label='tick')\n",
    "\n",
    "minute_df.open.loc[s_date:e_date].plot(marker='x',\n",
    "                                       ms=3,\n",
    "                                       ls='',\n",
    "                                       color='k',\n",
    "                                       label='tick')\n",
    "tick_df.loc[s_date:e_date].price.plot(marker='*',\n",
    "                                      ls='',\n",
    "                                      label='tick bar')\n",
    "vol_df.loc[s_date:e_date].price.plot(marker='x',\n",
    "                                     ls='',\n",
    "                                     label='vol bar')\n",
    "dollar_df.loc[s_date:e_date].price.plot(marker='^',\n",
    "                                        ls='',\n",
    "                                        color='y',\n",
    "                                        label='dollar bar')"
   ]
  },
  {
   "cell_type": "markdown",
   "metadata": {},
   "source": [
    "### Number of bars produced by tick, volume and dollar bars"
   ]
  },
  {
   "cell_type": "code",
   "execution_count": 13,
   "metadata": {},
   "outputs": [],
   "source": [
    "weekly_tick_count = tick_df.price.resample('1W').count()\n",
    "weekly_vol_count = vol_df.price.resample('1W').count()\n",
    "weekly_dollar_count = dollar_df.price.resample('1W').count()"
   ]
  },
  {
   "cell_type": "code",
   "execution_count": 14,
   "metadata": {},
   "outputs": [
    {
     "data": {
      "text/html": [
       "<div>\n",
       "<style scoped>\n",
       "    .dataframe tbody tr th:only-of-type {\n",
       "        vertical-align: middle;\n",
       "    }\n",
       "\n",
       "    .dataframe tbody tr th {\n",
       "        vertical-align: top;\n",
       "    }\n",
       "\n",
       "    .dataframe thead th {\n",
       "        text-align: right;\n",
       "    }\n",
       "</style>\n",
       "<table border=\"1\" class=\"dataframe\">\n",
       "  <thead>\n",
       "    <tr style=\"text-align: right;\">\n",
       "      <th></th>\n",
       "      <th>count_mean</th>\n",
       "      <th>count_std</th>\n",
       "    </tr>\n",
       "  </thead>\n",
       "  <tbody>\n",
       "    <tr>\n",
       "      <th>tick</th>\n",
       "      <td>318.863</td>\n",
       "      <td>197.473</td>\n",
       "    </tr>\n",
       "    <tr>\n",
       "      <th>vol</th>\n",
       "      <td>914.327</td>\n",
       "      <td>543.358</td>\n",
       "    </tr>\n",
       "    <tr>\n",
       "      <th>dollar</th>\n",
       "      <td>806.133</td>\n",
       "      <td>570.013</td>\n",
       "    </tr>\n",
       "  </tbody>\n",
       "</table>\n",
       "</div>"
      ],
      "text/plain": [
       "       count_mean count_std\n",
       "tick      318.863   197.473\n",
       "vol       914.327   543.358\n",
       "dollar    806.133   570.013"
      ]
     },
     "execution_count": 14,
     "metadata": {},
     "output_type": "execute_result"
    }
   ],
   "source": [
    "count_df = pd.DataFrame(columns=['count_mean','count_std'], index=['tick', 'vol', 'dollar'])\n",
    "count_df.loc['tick'] = [weekly_tick_count.mean(), weekly_tick_count.std()]\n",
    "count_df.loc['vol'] = [weekly_vol_count.mean(), weekly_vol_count.std()]\n",
    "count_df.loc['dollar'] = [weekly_dollar_count.mean(), weekly_dollar_count.std()]\n",
    "count_df"
   ]
  },
  {
   "cell_type": "markdown",
   "metadata": {},
   "source": [
    "From the plots below, the expectation is to see that the dollar bars is stable over time.\n",
    "The bar size could be adjusted dynamically as a function of the free-floating market capitalization of a company (in the case of stocks) or the outstanding amound of issued debt (in the case of fixed-income securities)"
   ]
  },
  {
   "cell_type": "code",
   "execution_count": 15,
   "metadata": {},
   "outputs": [
    {
     "data": {
      "text/plain": [
       "<matplotlib.legend.Legend at 0x1a1cafd8d0>"
      ]
     },
     "execution_count": 15,
     "metadata": {},
     "output_type": "execute_result"
    },
    {
     "data": {
      "image/png": "[encoded data removed]",
      "text/plain": [
       "<Figure size 432x288 with 1 Axes>"
      ]
     },
     "metadata": {},
     "output_type": "display_data"
    }
   ],
   "source": [
    "fig, ax = plt.subplots(1)\n",
    "weekly_tick_count.plot(ax=ax)\n",
    "weekly_vol_count.plot(ax=ax)\n",
    "weekly_dollar_count.plot(ax=ax)\n",
    "ax.legend([\"tick\", \"vol\", 'dollar'])"
   ]
  },
  {
   "cell_type": "code",
   "execution_count": 16,
   "metadata": {},
   "outputs": [],
   "source": [
    "def scale(s):\n",
    "    return (s-s.min())/(s.max()-s.min())"
   ]
  },
  {
   "cell_type": "code",
   "execution_count": 31,
   "metadata": {},
   "outputs": [
    {
     "data": {
      "text/plain": [
       "<matplotlib.legend.Legend at 0x1a1cb65710>"
      ]
     },
     "execution_count": 31,
     "metadata": {},
     "output_type": "execute_result"
    },
    {
     "data": {
      "image/png": "[encoded data removed]",
      "text/plain": [
       "<Figure size 720x504 with 1 Axes>"
      ]
     },
     "metadata": {},
     "output_type": "display_data"
    }
   ],
   "source": [
    "fig, ax = plt.subplots(1)\n",
    "scale(weekly_tick_count).plot(ax=ax)\n",
    "scale(weekly_vol_count).plot(ax=ax)\n",
    "scale(weekly_dollar_count).plot(ax=ax)\n",
    "ax.legend([\"tick\", \"vol\", 'dollar'])"
   ]
  },
  {
   "cell_type": "markdown",
   "metadata": {},
   "source": [
    "## Serial correlation of returns "
   ]
  },
  {
   "cell_type": "code",
   "execution_count": 18,
   "metadata": {},
   "outputs": [],
   "source": [
    "# log returns\n",
    "tick_returns = np.log(tick_df.price).diff().dropna()\n",
    "vol_returns = np.log(vol_df.price).diff().dropna()\n",
    "dollar_returns = np.log(dollar_df.price).diff().dropna()"
   ]
  },
  {
   "cell_type": "code",
   "execution_count": 19,
   "metadata": {},
   "outputs": [
    {
     "data": {
      "text/html": [
       "<div>\n",
       "<style scoped>\n",
       "    .dataframe tbody tr th:only-of-type {\n",
       "        vertical-align: middle;\n",
       "    }\n",
       "\n",
       "    .dataframe tbody tr th {\n",
       "        vertical-align: top;\n",
       "    }\n",
       "\n",
       "    .dataframe thead th {\n",
       "        text-align: right;\n",
       "    }\n",
       "</style>\n",
       "<table border=\"1\" class=\"dataframe\">\n",
       "  <thead>\n",
       "    <tr style=\"text-align: right;\">\n",
       "      <th></th>\n",
       "      <th>returns_autocorr</th>\n",
       "    </tr>\n",
       "  </thead>\n",
       "  <tbody>\n",
       "    <tr>\n",
       "      <th>tick</th>\n",
       "      <td>0.119813</td>\n",
       "    </tr>\n",
       "    <tr>\n",
       "      <th>vol</th>\n",
       "      <td>-0.170174</td>\n",
       "    </tr>\n",
       "    <tr>\n",
       "      <th>dollar</th>\n",
       "      <td>0.087695</td>\n",
       "    </tr>\n",
       "  </tbody>\n",
       "</table>\n",
       "</div>"
      ],
      "text/plain": [
       "        returns_autocorr\n",
       "tick            0.119813\n",
       "vol            -0.170174\n",
       "dollar          0.087695"
      ]
     },
     "execution_count": 19,
     "metadata": {},
     "output_type": "execute_result"
    }
   ],
   "source": [
    "returns_corr_df = pd.DataFrame(data={'returns_autocorr':[tick_returns.autocorr(lag=1),  \n",
    "                                                         vol_returns.autocorr(lag=1), \n",
    "                                                         dollar_returns.autocorr(lag=1)]\n",
    "                                    },\n",
    "                               index=['tick', 'vol', 'dollar'])\n",
    "returns_corr_df"
   ]
  },
  {
   "cell_type": "markdown",
   "metadata": {},
   "source": [
    "The dollar bar method has the lowest serial correlation"
   ]
  },
  {
   "cell_type": "markdown",
   "metadata": {},
   "source": [
    "### Variance of monthly returns subsets \n",
    "Partition the bar series into monthly subset and calculation of the variance of variances. "
   ]
  },
  {
   "cell_type": "code",
   "execution_count": 21,
   "metadata": {},
   "outputs": [],
   "source": [
    "monthly_tick_var = tick_returns.groupby(pd.Grouper(freq='M')).var()\n",
    "monthly_vol_var = vol_returns.groupby(pd.Grouper(freq='M')).var()\n",
    "monthly_dollar_var = dollar_returns.groupby(pd.Grouper(freq='M')).var()"
   ]
  },
  {
   "cell_type": "code",
   "execution_count": 22,
   "metadata": {},
   "outputs": [
    {
     "name": "stdout",
     "output_type": "stream",
     "text": [
      "Variance of variances of the tick bars : 7.151339028930249e-11\n",
      "Variance of variances of the volume bars  : 8.215850445568465e-11\n",
      "Variance of variances of the dollar bars : 6.341728539642424e-11\n"
     ]
    }
   ],
   "source": [
    "print(f\"Variance of variances of the tick bars : {monthly_tick_var.var()}\")\n",
    "print(f\"Variance of variances of the volume bars  : {monthly_vol_var.var()}\")\n",
    "print(f\"Variance of variances of the dollar bars : {monthly_dollar_var.var()}\")"
   ]
  },
  {
   "cell_type": "markdown",
   "metadata": {},
   "source": [
    "The dollar bar method exhibits the smallest variance of variances indeed."
   ]
  },
  {
   "cell_type": "markdown",
   "metadata": {},
   "source": [
    "### Jarque-Bera normality test"
   ]
  },
  {
   "cell_type": "code",
   "execution_count": 28,
   "metadata": {},
   "outputs": [
    {
     "name": "stdout",
     "output_type": "stream",
     "text": [
      "Result on the tick bars method   : (114216573300.08781, 0.0), 157836, 723640.8252875631\n",
      "Result on the volume bars method : (35919678439522.375, 0.0), 452591, 79364544.23424764\n",
      "Result on the dollar bars method : (7053467883813.181, 0.0), 399035,  17676313.816615537\n"
     ]
    }
   ],
   "source": [
    "print(f\"Result on the tick bars method   : {stats.jarque_bera(tick_returns)}, {tick_returns.count()}, {stats.jarque_bera(tick_returns)[0]/tick_returns.count()}\")\n",
    "print(f\"Result on the volume bars method : {stats.jarque_bera(vol_returns)}, {vol_returns.count()}, {stats.jarque_bera(vol_returns)[0]/vol_returns.count()}\")\n",
    "print(f\"Result on the dollar bars method : {stats.jarque_bera(dollar_returns)}, {dollar_returns.count()},  {stats.jarque_bera(dollar_returns)[0]/dollar_returns.count()}\")"
   ]
  },
  {
   "cell_type": "markdown",
   "metadata": {},
   "source": [
    "First, we reject the null hypothesis joint of the skewness being zero and that the excess kurtosis is equal to zero as the p-value for the hypothesis test is zero. \n",
    "\n",
    "We cannot confirm that the dollar return method has the lowest test statistic\n",
    "\n",
    "TODO: Review this test and compare with other normality tests"
   ]
  },
  {
   "cell_type": "code",
   "execution_count": 33,
   "metadata": {},
   "outputs": [
    {
     "data": {
      "image/png": "[encoded data removed]",
      "text/plain": [
       "<Figure size 720x504 with 3 Axes>"
      ]
     },
     "metadata": {},
     "output_type": "display_data"
    }
   ],
   "source": [
    "bins = np.arange(-0.6,0.6,0.01)\n",
    "fig, ax = plt.subplots(3,1)\n",
    "ax[0].hist(tick_returns, bins=bins)\n",
    "ax[0].set_title('tick')\n",
    "ax[1].hist(vol_returns, bins=bins)\n",
    "ax[1].set_title('vol')\n",
    "ax[2].hist(dollar_returns, bins=bins)\n",
    "ax[2].set_title('dollar')\n",
    "[a.set_yscale('log') for a in ax]\n",
    "fig.tight_layout()"
   ]
  },
  {
   "cell_type": "code",
   "execution_count": null,
   "metadata": {},
   "outputs": [],
   "source": []
  }
 ],
 "metadata": {
  "kernelspec": {
   "display_name": "Python 3",
   "language": "python",
   "name": "python3"
  },
  "language_info": {
   "codemirror_mode": {
    "name": "ipython",
    "version": 3
   },
   "file_extension": ".py",
   "mimetype": "text/x-python",
   "name": "python",
   "nbconvert_exporter": "python",
   "pygments_lexer": "ipython3",
   "version": "3.6.7"
  }
 },
 "nbformat": 4,
 "nbformat_minor": 2
}
