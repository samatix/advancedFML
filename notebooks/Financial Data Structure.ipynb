{
 "cells": [
  {
   "cell_type": "code",
   "execution_count": 1,
   "metadata": {},
   "outputs": [],
   "source": [
    "import numpy as np\n",
    "import pandas as pd \n",
    "from scipy import stats\n",
    "\n",
    "import matplotlib as mpl\n",
    "import matplotlib.pyplot as plt\n",
    "\n",
    "%matplotlib inline\n",
    "plt.style.use('ggplot')\n",
    "plt.style.use('ggplot')\n",
    "plt.rcParams['figure.figsize'] = 10,7\n",
    "\n",
    "import sys\n",
    "#sys.path.append('/Users/ayoubennassiri/Documents/Projects/advancedFML/src') #TODO: Change the append\n",
    "#sys.path.append('/Users/ayoubennassiri/Documents/Projects/advancedFML/')\n",
    "sys.path.append('../src') #TODO: Change the append\n",
    "sys.path.append('..')"
   ]
  },
  {
   "cell_type": "markdown",
   "metadata": {},
   "source": [
    "## Load the data"
   ]
  },
  {
   "cell_type": "code",
   "execution_count": 2,
   "metadata": {},
   "outputs": [
    {
     "name": "stderr",
     "output_type": "stream",
     "text": [
      "C:\\Users\\aennassiri\\AppData\\Local\\Continuum\\anaconda3\\envs\\advancesFML\\lib\\site-packages\\pyarrow\\pandas_compat.py:708: FutureWarning: .labels was deprecated in version 0.24.0. Use .codes instead.\n",
      "  labels = getattr(columns, 'labels', None) or [\n",
      "C:\\Users\\aennassiri\\AppData\\Local\\Continuum\\anaconda3\\envs\\advancesFML\\lib\\site-packages\\pyarrow\\pandas_compat.py:735: FutureWarning: the 'labels' keyword is deprecated, use 'codes' instead\n",
      "  return pd.MultiIndex(levels=new_levels, labels=labels, names=columns.names)\n",
      "C:\\Users\\aennassiri\\AppData\\Local\\Continuum\\anaconda3\\envs\\advancesFML\\lib\\site-packages\\pyarrow\\pandas_compat.py:752: FutureWarning: .labels was deprecated in version 0.24.0. Use .codes instead.\n",
      "  labels, = index.labels\n"
     ]
    }
   ],
   "source": [
    "clean_data_path = '../data/processed/clean_IVE_tickbidask.parq'\n",
    "#clean_data_path = '../data/processed/clean_WDC_tickbidask.parq'\n",
    "df = pd.read_parquet(clean_data_path)"
   ]
  },
  {
   "cell_type": "code",
   "execution_count": 3,
   "metadata": {},
   "outputs": [
    {
     "data": {
      "text/html": [
       "<div>\n",
       "<style scoped>\n",
       "    .dataframe tbody tr th:only-of-type {\n",
       "        vertical-align: middle;\n",
       "    }\n",
       "\n",
       "    .dataframe tbody tr th {\n",
       "        vertical-align: top;\n",
       "    }\n",
       "\n",
       "    .dataframe thead th {\n",
       "        text-align: right;\n",
       "    }\n",
       "</style>\n",
       "<table border=\"1\" class=\"dataframe\">\n",
       "  <thead>\n",
       "    <tr style=\"text-align: right;\">\n",
       "      <th></th>\n",
       "      <th>price</th>\n",
       "      <th>bid</th>\n",
       "      <th>ask</th>\n",
       "      <th>vol</th>\n",
       "      <th>dollar_vol</th>\n",
       "    </tr>\n",
       "    <tr>\n",
       "      <th>date</th>\n",
       "      <th></th>\n",
       "      <th></th>\n",
       "      <th></th>\n",
       "      <th></th>\n",
       "      <th></th>\n",
       "    </tr>\n",
       "  </thead>\n",
       "  <tbody>\n",
       "    <tr>\n",
       "      <th>2019-03-21 15:57:12</th>\n",
       "      <td>113.7800</td>\n",
       "      <td>113.77</td>\n",
       "      <td>113.78</td>\n",
       "      <td>101</td>\n",
       "      <td>11491.7800</td>\n",
       "    </tr>\n",
       "    <tr>\n",
       "      <th>2019-03-21 15:58:06</th>\n",
       "      <td>113.7922</td>\n",
       "      <td>113.79</td>\n",
       "      <td>113.80</td>\n",
       "      <td>3400</td>\n",
       "      <td>386893.4800</td>\n",
       "    </tr>\n",
       "    <tr>\n",
       "      <th>2019-03-21 15:58:06</th>\n",
       "      <td>113.7922</td>\n",
       "      <td>113.79</td>\n",
       "      <td>113.80</td>\n",
       "      <td>600</td>\n",
       "      <td>68275.3200</td>\n",
       "    </tr>\n",
       "    <tr>\n",
       "      <th>2019-03-21 15:58:10</th>\n",
       "      <td>113.8000</td>\n",
       "      <td>113.80</td>\n",
       "      <td>113.81</td>\n",
       "      <td>161</td>\n",
       "      <td>18321.8000</td>\n",
       "    </tr>\n",
       "    <tr>\n",
       "      <th>2019-03-21 15:58:33</th>\n",
       "      <td>113.8000</td>\n",
       "      <td>113.80</td>\n",
       "      <td>113.81</td>\n",
       "      <td>273</td>\n",
       "      <td>31067.4000</td>\n",
       "    </tr>\n",
       "    <tr>\n",
       "      <th>2019-03-21 15:58:37</th>\n",
       "      <td>113.7900</td>\n",
       "      <td>113.79</td>\n",
       "      <td>113.80</td>\n",
       "      <td>113</td>\n",
       "      <td>12858.2700</td>\n",
       "    </tr>\n",
       "    <tr>\n",
       "      <th>2019-03-21 15:58:42</th>\n",
       "      <td>113.7834</td>\n",
       "      <td>113.78</td>\n",
       "      <td>113.79</td>\n",
       "      <td>204</td>\n",
       "      <td>23211.8136</td>\n",
       "    </tr>\n",
       "    <tr>\n",
       "      <th>2019-03-21 15:58:56</th>\n",
       "      <td>113.7900</td>\n",
       "      <td>113.78</td>\n",
       "      <td>113.79</td>\n",
       "      <td>124</td>\n",
       "      <td>14109.9600</td>\n",
       "    </tr>\n",
       "    <tr>\n",
       "      <th>2019-03-21 15:58:58</th>\n",
       "      <td>113.7951</td>\n",
       "      <td>113.79</td>\n",
       "      <td>113.80</td>\n",
       "      <td>124</td>\n",
       "      <td>14110.5924</td>\n",
       "    </tr>\n",
       "    <tr>\n",
       "      <th>2019-03-21 15:59:23</th>\n",
       "      <td>113.7900</td>\n",
       "      <td>113.78</td>\n",
       "      <td>113.79</td>\n",
       "      <td>163</td>\n",
       "      <td>18547.7700</td>\n",
       "    </tr>\n",
       "    <tr>\n",
       "      <th>2019-03-21 15:59:35</th>\n",
       "      <td>113.7700</td>\n",
       "      <td>113.77</td>\n",
       "      <td>113.79</td>\n",
       "      <td>400</td>\n",
       "      <td>45508.0000</td>\n",
       "    </tr>\n",
       "    <tr>\n",
       "      <th>2019-03-21 15:59:35</th>\n",
       "      <td>113.7700</td>\n",
       "      <td>113.77</td>\n",
       "      <td>113.79</td>\n",
       "      <td>243</td>\n",
       "      <td>27646.1100</td>\n",
       "    </tr>\n",
       "    <tr>\n",
       "      <th>2019-03-21 15:59:52</th>\n",
       "      <td>113.7500</td>\n",
       "      <td>113.74</td>\n",
       "      <td>113.76</td>\n",
       "      <td>212</td>\n",
       "      <td>24115.0000</td>\n",
       "    </tr>\n",
       "    <tr>\n",
       "      <th>2019-03-21 15:59:52</th>\n",
       "      <td>113.7500</td>\n",
       "      <td>113.74</td>\n",
       "      <td>113.76</td>\n",
       "      <td>300</td>\n",
       "      <td>34125.0000</td>\n",
       "    </tr>\n",
       "    <tr>\n",
       "      <th>2019-03-21 15:59:52</th>\n",
       "      <td>113.7500</td>\n",
       "      <td>113.74</td>\n",
       "      <td>113.76</td>\n",
       "      <td>361</td>\n",
       "      <td>41063.7500</td>\n",
       "    </tr>\n",
       "    <tr>\n",
       "      <th>2019-03-21 15:59:55</th>\n",
       "      <td>113.7600</td>\n",
       "      <td>113.74</td>\n",
       "      <td>113.76</td>\n",
       "      <td>134</td>\n",
       "      <td>15243.8400</td>\n",
       "    </tr>\n",
       "    <tr>\n",
       "      <th>2019-03-21 15:59:55</th>\n",
       "      <td>113.7600</td>\n",
       "      <td>113.76</td>\n",
       "      <td>113.77</td>\n",
       "      <td>190</td>\n",
       "      <td>21614.4000</td>\n",
       "    </tr>\n",
       "    <tr>\n",
       "      <th>2019-03-21 15:59:55</th>\n",
       "      <td>113.7700</td>\n",
       "      <td>113.76</td>\n",
       "      <td>113.78</td>\n",
       "      <td>194</td>\n",
       "      <td>22071.3800</td>\n",
       "    </tr>\n",
       "    <tr>\n",
       "      <th>2019-03-21 15:59:56</th>\n",
       "      <td>113.7800</td>\n",
       "      <td>113.77</td>\n",
       "      <td>113.78</td>\n",
       "      <td>217</td>\n",
       "      <td>24690.2600</td>\n",
       "    </tr>\n",
       "    <tr>\n",
       "      <th>2019-03-21 15:59:58</th>\n",
       "      <td>113.8100</td>\n",
       "      <td>113.80</td>\n",
       "      <td>113.81</td>\n",
       "      <td>654</td>\n",
       "      <td>74431.7400</td>\n",
       "    </tr>\n",
       "    <tr>\n",
       "      <th>2019-03-21 15:59:58</th>\n",
       "      <td>113.8100</td>\n",
       "      <td>113.80</td>\n",
       "      <td>113.81</td>\n",
       "      <td>442</td>\n",
       "      <td>50304.0200</td>\n",
       "    </tr>\n",
       "    <tr>\n",
       "      <th>2019-03-21 15:59:58</th>\n",
       "      <td>113.8100</td>\n",
       "      <td>113.80</td>\n",
       "      <td>113.81</td>\n",
       "      <td>596</td>\n",
       "      <td>67830.7600</td>\n",
       "    </tr>\n",
       "    <tr>\n",
       "      <th>2019-03-21 15:59:58</th>\n",
       "      <td>113.8100</td>\n",
       "      <td>113.80</td>\n",
       "      <td>113.81</td>\n",
       "      <td>656</td>\n",
       "      <td>74659.3600</td>\n",
       "    </tr>\n",
       "    <tr>\n",
       "      <th>2019-03-21 15:59:58</th>\n",
       "      <td>113.8100</td>\n",
       "      <td>113.80</td>\n",
       "      <td>113.81</td>\n",
       "      <td>644</td>\n",
       "      <td>73293.6400</td>\n",
       "    </tr>\n",
       "    <tr>\n",
       "      <th>2019-03-21 16:00:00</th>\n",
       "      <td>113.7900</td>\n",
       "      <td>113.79</td>\n",
       "      <td>113.80</td>\n",
       "      <td>4551</td>\n",
       "      <td>517858.2900</td>\n",
       "    </tr>\n",
       "    <tr>\n",
       "      <th>2019-03-21 16:10:00</th>\n",
       "      <td>113.7900</td>\n",
       "      <td>112.34</td>\n",
       "      <td>114.35</td>\n",
       "      <td>0</td>\n",
       "      <td>0.0000</td>\n",
       "    </tr>\n",
       "    <tr>\n",
       "      <th>2019-03-21 17:50:40</th>\n",
       "      <td>113.0000</td>\n",
       "      <td>112.28</td>\n",
       "      <td>113.98</td>\n",
       "      <td>115</td>\n",
       "      <td>12995.0000</td>\n",
       "    </tr>\n",
       "    <tr>\n",
       "      <th>2019-03-21 18:30:00</th>\n",
       "      <td>113.7900</td>\n",
       "      <td>113.30</td>\n",
       "      <td>113.77</td>\n",
       "      <td>0</td>\n",
       "      <td>0.0000</td>\n",
       "    </tr>\n",
       "    <tr>\n",
       "      <th>2019-03-21 19:57:40</th>\n",
       "      <td>113.7900</td>\n",
       "      <td>113.30</td>\n",
       "      <td>114.47</td>\n",
       "      <td>100</td>\n",
       "      <td>11379.0000</td>\n",
       "    </tr>\n",
       "    <tr>\n",
       "      <th>2019-03-21 20:00:00</th>\n",
       "      <td>113.7900</td>\n",
       "      <td>113.79</td>\n",
       "      <td>114.37</td>\n",
       "      <td>0</td>\n",
       "      <td>0.0000</td>\n",
       "    </tr>\n",
       "  </tbody>\n",
       "</table>\n",
       "</div>"
      ],
      "text/plain": [
       "                        price     bid     ask   vol   dollar_vol\n",
       "date                                                            \n",
       "2019-03-21 15:57:12  113.7800  113.77  113.78   101   11491.7800\n",
       "2019-03-21 15:58:06  113.7922  113.79  113.80  3400  386893.4800\n",
       "2019-03-21 15:58:06  113.7922  113.79  113.80   600   68275.3200\n",
       "2019-03-21 15:58:10  113.8000  113.80  113.81   161   18321.8000\n",
       "2019-03-21 15:58:33  113.8000  113.80  113.81   273   31067.4000\n",
       "2019-03-21 15:58:37  113.7900  113.79  113.80   113   12858.2700\n",
       "2019-03-21 15:58:42  113.7834  113.78  113.79   204   23211.8136\n",
       "2019-03-21 15:58:56  113.7900  113.78  113.79   124   14109.9600\n",
       "2019-03-21 15:58:58  113.7951  113.79  113.80   124   14110.5924\n",
       "2019-03-21 15:59:23  113.7900  113.78  113.79   163   18547.7700\n",
       "2019-03-21 15:59:35  113.7700  113.77  113.79   400   45508.0000\n",
       "2019-03-21 15:59:35  113.7700  113.77  113.79   243   27646.1100\n",
       "2019-03-21 15:59:52  113.7500  113.74  113.76   212   24115.0000\n",
       "2019-03-21 15:59:52  113.7500  113.74  113.76   300   34125.0000\n",
       "2019-03-21 15:59:52  113.7500  113.74  113.76   361   41063.7500\n",
       "2019-03-21 15:59:55  113.7600  113.74  113.76   134   15243.8400\n",
       "2019-03-21 15:59:55  113.7600  113.76  113.77   190   21614.4000\n",
       "2019-03-21 15:59:55  113.7700  113.76  113.78   194   22071.3800\n",
       "2019-03-21 15:59:56  113.7800  113.77  113.78   217   24690.2600\n",
       "2019-03-21 15:59:58  113.8100  113.80  113.81   654   74431.7400\n",
       "2019-03-21 15:59:58  113.8100  113.80  113.81   442   50304.0200\n",
       "2019-03-21 15:59:58  113.8100  113.80  113.81   596   67830.7600\n",
       "2019-03-21 15:59:58  113.8100  113.80  113.81   656   74659.3600\n",
       "2019-03-21 15:59:58  113.8100  113.80  113.81   644   73293.6400\n",
       "2019-03-21 16:00:00  113.7900  113.79  113.80  4551  517858.2900\n",
       "2019-03-21 16:10:00  113.7900  112.34  114.35     0       0.0000\n",
       "2019-03-21 17:50:40  113.0000  112.28  113.98   115   12995.0000\n",
       "2019-03-21 18:30:00  113.7900  113.30  113.77     0       0.0000\n",
       "2019-03-21 19:57:40  113.7900  113.30  114.47   100   11379.0000\n",
       "2019-03-21 20:00:00  113.7900  113.79  114.37     0       0.0000"
      ]
     },
     "execution_count": 3,
     "metadata": {},
     "output_type": "execute_result"
    }
   ],
   "source": [
    "x = df.tail(30)\n",
    "x"
   ]
  },
  {
   "cell_type": "code",
   "execution_count": 4,
   "metadata": {},
   "outputs": [
    {
     "name": "stderr",
     "output_type": "stream",
     "text": [
      "C:\\Users\\aennassiri\\AppData\\Local\\Continuum\\anaconda3\\envs\\advancesFML\\lib\\site-packages\\pandas\\plotting\\_converter.py:129: FutureWarning: Using an implicitly registered datetime converter for a matplotlib plotting method. The converter was registered by pandas on import. Future versions of pandas will require you to explicitly register matplotlib converters.\n",
      "\n",
      "To register the converters:\n",
      "\t>>> from pandas.plotting import register_matplotlib_converters\n",
      "\t>>> register_matplotlib_converters()\n",
      "  warnings.warn(msg, FutureWarning)\n"
     ]
    },
    {
     "data": {
      "image/png": "[encoded data removed]",
      "text/plain": [
       "<Figure size 432x288 with 1 Axes>"
      ]
     },
     "metadata": {
      "needs_background": "light"
     },
     "output_type": "display_data"
    }
   ],
   "source": [
    "from src.visualization.candle import plot_candlestick_ohlc\n",
    "\n",
    "df_ohlc = df.price.resample('1M').ohlc() \n",
    "\n",
    "fig, ax = plt.subplots()\n",
    "plot_candlestick_ohlc(df_ohlc, ax, width=18)"
   ]
  },
  {
   "cell_type": "markdown",
   "metadata": {},
   "source": [
    "### Use the ETF trick to deal with the roll\n",
    "The data loaded are already ETF https://www.ishares.com/us/products/239728/ishares-sp-500-value-etf\n",
    "TODO: Add example on any available stock."
   ]
  },
  {
   "cell_type": "markdown",
   "metadata": {},
   "source": [
    "## Bars"
   ]
  },
  {
   "cell_type": "code",
   "execution_count": 5,
   "metadata": {},
   "outputs": [],
   "source": [
    "from features.bars import tick_bar\n",
    "from features.bars import volume_bar\n",
    "from features.bars import dollar_bar"
   ]
  },
  {
   "cell_type": "markdown",
   "metadata": {},
   "source": [
    "### Tick Bar"
   ]
  },
  {
   "cell_type": "code",
   "execution_count": 6,
   "metadata": {},
   "outputs": [
    {
     "data": {
      "text/html": [
       "<div>\n",
       "<style scoped>\n",
       "    .dataframe tbody tr th:only-of-type {\n",
       "        vertical-align: middle;\n",
       "    }\n",
       "\n",
       "    .dataframe tbody tr th {\n",
       "        vertical-align: top;\n",
       "    }\n",
       "\n",
       "    .dataframe thead th {\n",
       "        text-align: right;\n",
       "    }\n",
       "</style>\n",
       "<table border=\"1\" class=\"dataframe\">\n",
       "  <thead>\n",
       "    <tr style=\"text-align: right;\">\n",
       "      <th></th>\n",
       "      <th>price</th>\n",
       "      <th>bid</th>\n",
       "      <th>ask</th>\n",
       "      <th>vol</th>\n",
       "      <th>dollar_vol</th>\n",
       "    </tr>\n",
       "    <tr>\n",
       "      <th>date</th>\n",
       "      <th></th>\n",
       "      <th></th>\n",
       "      <th></th>\n",
       "      <th></th>\n",
       "      <th></th>\n",
       "    </tr>\n",
       "  </thead>\n",
       "  <tbody>\n",
       "    <tr>\n",
       "      <th>2019-03-21 15:57:12</th>\n",
       "      <td>113.78</td>\n",
       "      <td>113.77</td>\n",
       "      <td>113.78</td>\n",
       "      <td>101</td>\n",
       "      <td>11491.78</td>\n",
       "    </tr>\n",
       "    <tr>\n",
       "      <th>2019-03-21 15:59:35</th>\n",
       "      <td>113.77</td>\n",
       "      <td>113.77</td>\n",
       "      <td>113.79</td>\n",
       "      <td>400</td>\n",
       "      <td>45508.00</td>\n",
       "    </tr>\n",
       "    <tr>\n",
       "      <th>2019-03-21 15:59:58</th>\n",
       "      <td>113.81</td>\n",
       "      <td>113.80</td>\n",
       "      <td>113.81</td>\n",
       "      <td>442</td>\n",
       "      <td>50304.02</td>\n",
       "    </tr>\n",
       "  </tbody>\n",
       "</table>\n",
       "</div>"
      ],
      "text/plain": [
       "                      price     bid     ask  vol  dollar_vol\n",
       "date                                                        \n",
       "2019-03-21 15:57:12  113.78  113.77  113.78  101    11491.78\n",
       "2019-03-21 15:59:35  113.77  113.77  113.79  400    45508.00\n",
       "2019-03-21 15:59:58  113.81  113.80  113.81  442    50304.02"
      ]
     },
     "execution_count": 6,
     "metadata": {},
     "output_type": "execute_result"
    }
   ],
   "source": [
    "m = 10\n",
    "tick_df = tick_bar(df, m)\n",
    "tick_x = tick_bar(x, m)\n",
    "tick_x"
   ]
  },
  {
   "cell_type": "markdown",
   "metadata": {},
   "source": [
    "You can see that tick took samples every 10 transactions"
   ]
  },
  {
   "cell_type": "markdown",
   "metadata": {},
   "source": [
    "### Volume Bar"
   ]
  },
  {
   "cell_type": "code",
   "execution_count": 7,
   "metadata": {},
   "outputs": [],
   "source": [
    "m = 1_000\n",
    "vol_df = volume_bar(df, m)\n",
    "vol_x = volume_bar(x, m)"
   ]
  },
  {
   "cell_type": "code",
   "execution_count": 8,
   "metadata": {},
   "outputs": [
    {
     "data": {
      "text/html": [
       "<div>\n",
       "<style scoped>\n",
       "    .dataframe tbody tr th:only-of-type {\n",
       "        vertical-align: middle;\n",
       "    }\n",
       "\n",
       "    .dataframe tbody tr th {\n",
       "        vertical-align: top;\n",
       "    }\n",
       "\n",
       "    .dataframe thead th {\n",
       "        text-align: right;\n",
       "    }\n",
       "</style>\n",
       "<table border=\"1\" class=\"dataframe\">\n",
       "  <thead>\n",
       "    <tr style=\"text-align: right;\">\n",
       "      <th></th>\n",
       "      <th>price</th>\n",
       "      <th>bid</th>\n",
       "      <th>ask</th>\n",
       "      <th>vol</th>\n",
       "      <th>dollar_vol</th>\n",
       "      <th>cum_vol</th>\n",
       "    </tr>\n",
       "    <tr>\n",
       "      <th>date</th>\n",
       "      <th></th>\n",
       "      <th></th>\n",
       "      <th></th>\n",
       "      <th></th>\n",
       "      <th></th>\n",
       "      <th></th>\n",
       "    </tr>\n",
       "  </thead>\n",
       "  <tbody>\n",
       "    <tr>\n",
       "      <th>2019-03-21 15:58:06</th>\n",
       "      <td>113.7922</td>\n",
       "      <td>113.79</td>\n",
       "      <td>113.80</td>\n",
       "      <td>3400</td>\n",
       "      <td>386893.48</td>\n",
       "      <td>3501</td>\n",
       "    </tr>\n",
       "    <tr>\n",
       "      <th>2019-03-21 15:58:33</th>\n",
       "      <td>113.8000</td>\n",
       "      <td>113.80</td>\n",
       "      <td>113.81</td>\n",
       "      <td>273</td>\n",
       "      <td>31067.40</td>\n",
       "      <td>1034</td>\n",
       "    </tr>\n",
       "    <tr>\n",
       "      <th>2019-03-21 15:59:35</th>\n",
       "      <td>113.7700</td>\n",
       "      <td>113.77</td>\n",
       "      <td>113.79</td>\n",
       "      <td>400</td>\n",
       "      <td>45508.00</td>\n",
       "      <td>1128</td>\n",
       "    </tr>\n",
       "    <tr>\n",
       "      <th>2019-03-21 15:59:52</th>\n",
       "      <td>113.7500</td>\n",
       "      <td>113.74</td>\n",
       "      <td>113.76</td>\n",
       "      <td>361</td>\n",
       "      <td>41063.75</td>\n",
       "      <td>1116</td>\n",
       "    </tr>\n",
       "    <tr>\n",
       "      <th>2019-03-21 15:59:58</th>\n",
       "      <td>113.8100</td>\n",
       "      <td>113.80</td>\n",
       "      <td>113.81</td>\n",
       "      <td>654</td>\n",
       "      <td>74431.74</td>\n",
       "      <td>1389</td>\n",
       "    </tr>\n",
       "    <tr>\n",
       "      <th>2019-03-21 15:59:58</th>\n",
       "      <td>113.8100</td>\n",
       "      <td>113.80</td>\n",
       "      <td>113.81</td>\n",
       "      <td>596</td>\n",
       "      <td>67830.76</td>\n",
       "      <td>1038</td>\n",
       "    </tr>\n",
       "    <tr>\n",
       "      <th>2019-03-21 15:59:58</th>\n",
       "      <td>113.8100</td>\n",
       "      <td>113.80</td>\n",
       "      <td>113.81</td>\n",
       "      <td>644</td>\n",
       "      <td>73293.64</td>\n",
       "      <td>1300</td>\n",
       "    </tr>\n",
       "    <tr>\n",
       "      <th>2019-03-21 16:00:00</th>\n",
       "      <td>113.7900</td>\n",
       "      <td>113.79</td>\n",
       "      <td>113.80</td>\n",
       "      <td>4551</td>\n",
       "      <td>517858.29</td>\n",
       "      <td>4551</td>\n",
       "    </tr>\n",
       "  </tbody>\n",
       "</table>\n",
       "</div>"
      ],
      "text/plain": [
       "                        price     bid     ask   vol  dollar_vol  cum_vol\n",
       "date                                                                    \n",
       "2019-03-21 15:58:06  113.7922  113.79  113.80  3400   386893.48     3501\n",
       "2019-03-21 15:58:33  113.8000  113.80  113.81   273    31067.40     1034\n",
       "2019-03-21 15:59:35  113.7700  113.77  113.79   400    45508.00     1128\n",
       "2019-03-21 15:59:52  113.7500  113.74  113.76   361    41063.75     1116\n",
       "2019-03-21 15:59:58  113.8100  113.80  113.81   654    74431.74     1389\n",
       "2019-03-21 15:59:58  113.8100  113.80  113.81   596    67830.76     1038\n",
       "2019-03-21 15:59:58  113.8100  113.80  113.81   644    73293.64     1300\n",
       "2019-03-21 16:00:00  113.7900  113.79  113.80  4551   517858.29     4551"
      ]
     },
     "execution_count": 8,
     "metadata": {},
     "output_type": "execute_result"
    }
   ],
   "source": [
    "vol_x"
   ]
  },
  {
   "cell_type": "markdown",
   "metadata": {},
   "source": [
    "The tick volume in bars for the sample data has a cumulative volume bigger than the threshold m"
   ]
  },
  {
   "cell_type": "markdown",
   "metadata": {},
   "source": [
    "### Dollar Bar"
   ]
  },
  {
   "cell_type": "code",
   "execution_count": 9,
   "metadata": {},
   "outputs": [],
   "source": [
    "minute_df = df.price.resample('min').ohlc().dropna()\n",
    "\n",
    "m = 100_000\n",
    "dollar_df = dollar_bar(df, m)\n",
    "dollar_x = dollar_bar(x, m)"
   ]
  },
  {
   "cell_type": "code",
   "execution_count": 10,
   "metadata": {},
   "outputs": [
    {
     "data": {
      "text/html": [
       "<div>\n",
       "<style scoped>\n",
       "    .dataframe tbody tr th:only-of-type {\n",
       "        vertical-align: middle;\n",
       "    }\n",
       "\n",
       "    .dataframe tbody tr th {\n",
       "        vertical-align: top;\n",
       "    }\n",
       "\n",
       "    .dataframe thead th {\n",
       "        text-align: right;\n",
       "    }\n",
       "</style>\n",
       "<table border=\"1\" class=\"dataframe\">\n",
       "  <thead>\n",
       "    <tr style=\"text-align: right;\">\n",
       "      <th></th>\n",
       "      <th>price</th>\n",
       "      <th>bid</th>\n",
       "      <th>ask</th>\n",
       "      <th>vol</th>\n",
       "      <th>dollar_vol</th>\n",
       "      <th>cum_dollar_vol</th>\n",
       "      <th>idx</th>\n",
       "    </tr>\n",
       "    <tr>\n",
       "      <th>date</th>\n",
       "      <th></th>\n",
       "      <th></th>\n",
       "      <th></th>\n",
       "      <th></th>\n",
       "      <th></th>\n",
       "      <th></th>\n",
       "      <th></th>\n",
       "    </tr>\n",
       "  </thead>\n",
       "  <tbody>\n",
       "    <tr>\n",
       "      <th>2019-03-21 15:58:06</th>\n",
       "      <td>113.7922</td>\n",
       "      <td>113.79</td>\n",
       "      <td>113.80</td>\n",
       "      <td>3400</td>\n",
       "      <td>386893.48</td>\n",
       "      <td>398385.260</td>\n",
       "      <td>1</td>\n",
       "    </tr>\n",
       "    <tr>\n",
       "      <th>2019-03-21 15:58:33</th>\n",
       "      <td>113.8000</td>\n",
       "      <td>113.80</td>\n",
       "      <td>113.81</td>\n",
       "      <td>273</td>\n",
       "      <td>31067.40</td>\n",
       "      <td>117664.520</td>\n",
       "      <td>4</td>\n",
       "    </tr>\n",
       "    <tr>\n",
       "      <th>2019-03-21 15:59:35</th>\n",
       "      <td>113.7700</td>\n",
       "      <td>113.77</td>\n",
       "      <td>113.79</td>\n",
       "      <td>400</td>\n",
       "      <td>45508.00</td>\n",
       "      <td>128346.406</td>\n",
       "      <td>10</td>\n",
       "    </tr>\n",
       "    <tr>\n",
       "      <th>2019-03-21 15:59:52</th>\n",
       "      <td>113.7500</td>\n",
       "      <td>113.74</td>\n",
       "      <td>113.76</td>\n",
       "      <td>361</td>\n",
       "      <td>41063.75</td>\n",
       "      <td>126949.860</td>\n",
       "      <td>14</td>\n",
       "    </tr>\n",
       "    <tr>\n",
       "      <th>2019-03-21 15:59:58</th>\n",
       "      <td>113.8100</td>\n",
       "      <td>113.80</td>\n",
       "      <td>113.81</td>\n",
       "      <td>654</td>\n",
       "      <td>74431.74</td>\n",
       "      <td>158051.620</td>\n",
       "      <td>19</td>\n",
       "    </tr>\n",
       "    <tr>\n",
       "      <th>2019-03-21 15:59:58</th>\n",
       "      <td>113.8100</td>\n",
       "      <td>113.80</td>\n",
       "      <td>113.81</td>\n",
       "      <td>596</td>\n",
       "      <td>67830.76</td>\n",
       "      <td>118134.780</td>\n",
       "      <td>21</td>\n",
       "    </tr>\n",
       "    <tr>\n",
       "      <th>2019-03-21 15:59:58</th>\n",
       "      <td>113.8100</td>\n",
       "      <td>113.80</td>\n",
       "      <td>113.81</td>\n",
       "      <td>644</td>\n",
       "      <td>73293.64</td>\n",
       "      <td>147953.000</td>\n",
       "      <td>23</td>\n",
       "    </tr>\n",
       "    <tr>\n",
       "      <th>2019-03-21 16:00:00</th>\n",
       "      <td>113.7900</td>\n",
       "      <td>113.79</td>\n",
       "      <td>113.80</td>\n",
       "      <td>4551</td>\n",
       "      <td>517858.29</td>\n",
       "      <td>517858.290</td>\n",
       "      <td>24</td>\n",
       "    </tr>\n",
       "  </tbody>\n",
       "</table>\n",
       "</div>"
      ],
      "text/plain": [
       "                        price     bid     ask   vol  dollar_vol  \\\n",
       "date                                                              \n",
       "2019-03-21 15:58:06  113.7922  113.79  113.80  3400   386893.48   \n",
       "2019-03-21 15:58:33  113.8000  113.80  113.81   273    31067.40   \n",
       "2019-03-21 15:59:35  113.7700  113.77  113.79   400    45508.00   \n",
       "2019-03-21 15:59:52  113.7500  113.74  113.76   361    41063.75   \n",
       "2019-03-21 15:59:58  113.8100  113.80  113.81   654    74431.74   \n",
       "2019-03-21 15:59:58  113.8100  113.80  113.81   596    67830.76   \n",
       "2019-03-21 15:59:58  113.8100  113.80  113.81   644    73293.64   \n",
       "2019-03-21 16:00:00  113.7900  113.79  113.80  4551   517858.29   \n",
       "\n",
       "                     cum_dollar_vol  idx  \n",
       "date                                      \n",
       "2019-03-21 15:58:06      398385.260    1  \n",
       "2019-03-21 15:58:33      117664.520    4  \n",
       "2019-03-21 15:59:35      128346.406   10  \n",
       "2019-03-21 15:59:52      126949.860   14  \n",
       "2019-03-21 15:59:58      158051.620   19  \n",
       "2019-03-21 15:59:58      118134.780   21  \n",
       "2019-03-21 15:59:58      147953.000   23  \n",
       "2019-03-21 16:00:00      517858.290   24  "
      ]
     },
     "execution_count": 10,
     "metadata": {},
     "output_type": "execute_result"
    }
   ],
   "source": [
    "dollar_x"
   ]
  },
  {
   "cell_type": "markdown",
   "metadata": {},
   "source": [
    "The tick dollar bar depends on the threshold defined (100k dollars) and samples the price whenever this threshold is reached. "
   ]
  },
  {
   "cell_type": "code",
   "execution_count": 11,
   "metadata": {},
   "outputs": [
    {
     "name": "stdout",
     "output_type": "stream",
     "text": [
      "Period : 2009-09-28 09:30:00, 2019-03-21 16:10:00\n",
      "Shape of the initial data : (1580115, 5), minute selected : (570176, 4)\n",
      "Shape of the tick bars : (158012, 5)\n",
      "Shape of the volume bars  : (453039, 6)\n",
      "Shape of the dollar bars : (399520, 7)\n"
     ]
    }
   ],
   "source": [
    "print(f\"Period : {tick_df.index[0]}, {tick_df.index[-1]}\")\n",
    "print(f\"Shape of the initial data : {df.shape}, minute selected : {minute_df.shape}\")\n",
    "print(f\"Shape of the tick bars : {tick_df.shape}\")\n",
    "print(f\"Shape of the volume bars  : {vol_df.shape}\")\n",
    "print(f\"Shape of the dollar bars : {dollar_df.shape}\")"
   ]
  },
  {
   "cell_type": "code",
   "execution_count": 12,
   "metadata": {},
   "outputs": [
    {
     "data": {
      "text/plain": [
       "<matplotlib.axes._subplots.AxesSubplot at 0x25456d98e48>"
      ]
     },
     "execution_count": 12,
     "metadata": {},
     "output_type": "execute_result"
    },
    {
     "data": {
      "image/png": "[encoded data removed]",
      "text/plain": [
       "<Figure size 1440x720 with 1 Axes>"
      ]
     },
     "metadata": {
      "needs_background": "light"
     },
     "output_type": "display_data"
    }
   ],
   "source": [
    "s_date='2019-01-01 8:00:00'\n",
    "e_date='2019-03-18 18:40:00'\n",
    "plt.figure(figsize=(20,10))\n",
    "df.loc[s_date:e_date].price.plot(marker='o',\n",
    "                                 ms=3,\n",
    "                                 color='b',\n",
    "                                 alpha=0.2,\n",
    "                                 label='tick')\n",
    "\n",
    "minute_df.open.loc[s_date:e_date].plot(marker='x',\n",
    "                                       ms=3,\n",
    "                                       ls='',\n",
    "                                       color='k',\n",
    "                                       label='tick')\n",
    "tick_df.loc[s_date:e_date].price.plot(marker='*',\n",
    "                                      ls='',\n",
    "                                      label='tick bar')\n",
    "vol_df.loc[s_date:e_date].price.plot(marker='x',\n",
    "                                     ls='',\n",
    "                                     label='vol bar')\n",
    "dollar_df.loc[s_date:e_date].price.plot(marker='^',\n",
    "                                        ls='',\n",
    "                                        color='y',\n",
    "                                        label='dollar bar')"
   ]
  },
  {
   "cell_type": "markdown",
   "metadata": {},
   "source": [
    "### Number of bars produced by tick, volume and dollar bars"
   ]
  },
  {
   "cell_type": "code",
   "execution_count": 13,
   "metadata": {},
   "outputs": [],
   "source": [
    "weekly_tick_count = tick_df.price.resample('1W').count()\n",
    "weekly_vol_count = vol_df.price.resample('1W').count()\n",
    "weekly_dollar_count = dollar_df.price.resample('1W').count()"
   ]
  },
  {
   "cell_type": "code",
   "execution_count": 14,
   "metadata": {},
   "outputs": [
    {
     "data": {
      "text/html": [
       "<div>\n",
       "<style scoped>\n",
       "    .dataframe tbody tr th:only-of-type {\n",
       "        vertical-align: middle;\n",
       "    }\n",
       "\n",
       "    .dataframe tbody tr th {\n",
       "        vertical-align: top;\n",
       "    }\n",
       "\n",
       "    .dataframe thead th {\n",
       "        text-align: right;\n",
       "    }\n",
       "</style>\n",
       "<table border=\"1\" class=\"dataframe\">\n",
       "  <thead>\n",
       "    <tr style=\"text-align: right;\">\n",
       "      <th></th>\n",
       "      <th>count_mean</th>\n",
       "      <th>count_std</th>\n",
       "    </tr>\n",
       "  </thead>\n",
       "  <tbody>\n",
       "    <tr>\n",
       "      <th>tick</th>\n",
       "      <td>319.216</td>\n",
       "      <td>197.129</td>\n",
       "    </tr>\n",
       "    <tr>\n",
       "      <th>vol</th>\n",
       "      <td>915.23</td>\n",
       "      <td>542.38</td>\n",
       "    </tr>\n",
       "    <tr>\n",
       "      <th>dollar</th>\n",
       "      <td>807.111</td>\n",
       "      <td>569.238</td>\n",
       "    </tr>\n",
       "  </tbody>\n",
       "</table>\n",
       "</div>"
      ],
      "text/plain": [
       "       count_mean count_std\n",
       "tick      319.216   197.129\n",
       "vol        915.23    542.38\n",
       "dollar    807.111   569.238"
      ]
     },
     "execution_count": 14,
     "metadata": {},
     "output_type": "execute_result"
    }
   ],
   "source": [
    "count_df = pd.DataFrame(columns=['count_mean','count_std'], index=['tick', 'vol', 'dollar'])\n",
    "count_df.loc['tick'] = [weekly_tick_count.mean(), weekly_tick_count.std()]\n",
    "count_df.loc['vol'] = [weekly_vol_count.mean(), weekly_vol_count.std()]\n",
    "count_df.loc['dollar'] = [weekly_dollar_count.mean(), weekly_dollar_count.std()]\n",
    "count_df"
   ]
  },
  {
   "cell_type": "markdown",
   "metadata": {},
   "source": [
    "From the plots below, the expectation is to see that the dollar bars is stable over time.\n",
    "The bar size could be adjusted dynamically as a function of the free-floating market capitalization of a company (in the case of stocks) or the outstanding amound of issued debt (in the case of fixed-income securities)"
   ]
  },
  {
   "cell_type": "code",
   "execution_count": 15,
   "metadata": {},
   "outputs": [
    {
     "data": {
      "text/plain": [
       "<matplotlib.legend.Legend at 0x25458ffcf60>"
      ]
     },
     "execution_count": 15,
     "metadata": {},
     "output_type": "execute_result"
    },
    {
     "data": {
      "image/png": "[encoded data removed]",
      "text/plain": [
       "<Figure size 432x288 with 1 Axes>"
      ]
     },
     "metadata": {
      "needs_background": "light"
     },
     "output_type": "display_data"
    }
   ],
   "source": [
    "fig, ax = plt.subplots(1)\n",
    "weekly_tick_count.plot(ax=ax)\n",
    "weekly_vol_count.plot(ax=ax)\n",
    "weekly_dollar_count.plot(ax=ax)\n",
    "ax.legend([\"tick\", \"vol\", 'dollar'])"
   ]
  },
  {
   "cell_type": "code",
   "execution_count": 17,
   "metadata": {},
   "outputs": [],
   "source": [
    "def scale(s):\n",
    "    return (s-s.min())/(s.max()-s.min())"
   ]
  },
  {
   "cell_type": "code",
   "execution_count": 18,
   "metadata": {},
   "outputs": [
    {
     "data": {
      "text/plain": [
       "<matplotlib.legend.Legend at 0x254593d6668>"
      ]
     },
     "execution_count": 18,
     "metadata": {},
     "output_type": "execute_result"
    },
    {
     "data": {
      "image/png": "[encoded data removed]",
      "text/plain": [
       "<Figure size 432x288 with 1 Axes>"
      ]
     },
     "metadata": {
      "needs_background": "light"
     },
     "output_type": "display_data"
    }
   ],
   "source": [
    "fig, ax = plt.subplots(1)\n",
    "scale(weekly_tick_count).plot(ax=ax)\n",
    "scale(weekly_vol_count).plot(ax=ax)\n",
    "scale(weekly_dollar_count).plot(ax=ax)\n",
    "ax.legend([\"tick\", \"vol\", 'dollar'])"
   ]
  },
  {
   "cell_type": "markdown",
   "metadata": {},
   "source": [
    "## Serial correlation of returns "
   ]
  },
  {
   "cell_type": "code",
   "execution_count": 19,
   "metadata": {},
   "outputs": [],
   "source": [
    "# log returns\n",
    "tick_returns = np.log(tick_df.price).diff().dropna()\n",
    "vol_returns = np.log(vol_df.price).diff().dropna()\n",
    "dollar_returns = np.log(dollar_df.price).diff().dropna()"
   ]
  },
  {
   "cell_type": "code",
   "execution_count": 20,
   "metadata": {},
   "outputs": [
    {
     "data": {
      "text/html": [
       "<div>\n",
       "<style scoped>\n",
       "    .dataframe tbody tr th:only-of-type {\n",
       "        vertical-align: middle;\n",
       "    }\n",
       "\n",
       "    .dataframe tbody tr th {\n",
       "        vertical-align: top;\n",
       "    }\n",
       "\n",
       "    .dataframe thead th {\n",
       "        text-align: right;\n",
       "    }\n",
       "</style>\n",
       "<table border=\"1\" class=\"dataframe\">\n",
       "  <thead>\n",
       "    <tr style=\"text-align: right;\">\n",
       "      <th></th>\n",
       "      <th>returns_autocorr</th>\n",
       "    </tr>\n",
       "  </thead>\n",
       "  <tbody>\n",
       "    <tr>\n",
       "      <th>tick</th>\n",
       "      <td>0.119800</td>\n",
       "    </tr>\n",
       "    <tr>\n",
       "      <th>vol</th>\n",
       "      <td>-0.170120</td>\n",
       "    </tr>\n",
       "    <tr>\n",
       "      <th>dollar</th>\n",
       "      <td>0.087667</td>\n",
       "    </tr>\n",
       "  </tbody>\n",
       "</table>\n",
       "</div>"
      ],
      "text/plain": [
       "        returns_autocorr\n",
       "tick            0.119800\n",
       "vol            -0.170120\n",
       "dollar          0.087667"
      ]
     },
     "execution_count": 20,
     "metadata": {},
     "output_type": "execute_result"
    }
   ],
   "source": [
    "returns_corr_df = pd.DataFrame(data={'returns_autocorr':[tick_returns.autocorr(lag=1),  \n",
    "                                                         vol_returns.autocorr(lag=1), \n",
    "                                                         dollar_returns.autocorr(lag=1)]\n",
    "                                    },\n",
    "                               index=['tick', 'vol', 'dollar'])\n",
    "returns_corr_df"
   ]
  },
  {
   "cell_type": "markdown",
   "metadata": {},
   "source": [
    "The dollar bar method has the lowest serial correlation"
   ]
  },
  {
   "cell_type": "markdown",
   "metadata": {},
   "source": [
    "### Variance of monthly returns subsets \n",
    "Partition the bar series into monthly subset and calculation of the variance of variances. "
   ]
  },
  {
   "cell_type": "code",
   "execution_count": 21,
   "metadata": {},
   "outputs": [],
   "source": [
    "monthly_tick_var = tick_returns.groupby(pd.Grouper(freq='M')).var()\n",
    "monthly_vol_var = vol_returns.groupby(pd.Grouper(freq='M')).var()\n",
    "monthly_dollar_var = dollar_returns.groupby(pd.Grouper(freq='M')).var()"
   ]
  },
  {
   "cell_type": "code",
   "execution_count": 22,
   "metadata": {},
   "outputs": [
    {
     "name": "stdout",
     "output_type": "stream",
     "text": [
      "Variance of variances of the tick bars : 7.151190340087026e-11\n",
      "Variance of variances of the volume bars  : 8.215780402458611e-11\n",
      "Variance of variances of the dollar bars : 6.341655526981834e-11\n"
     ]
    }
   ],
   "source": [
    "print(f\"Variance of variances of the tick bars : {monthly_tick_var.var()}\")\n",
    "print(f\"Variance of variances of the volume bars  : {monthly_vol_var.var()}\")\n",
    "print(f\"Variance of variances of the dollar bars : {monthly_dollar_var.var()}\")"
   ]
  },
  {
   "cell_type": "markdown",
   "metadata": {},
   "source": [
    "The dollar bar method exhibits the smallest variance of variances indeed."
   ]
  },
  {
   "cell_type": "markdown",
   "metadata": {},
   "source": [
    "### Jarque-Bera normality test"
   ]
  },
  {
   "cell_type": "code",
   "execution_count": 23,
   "metadata": {},
   "outputs": [
    {
     "name": "stdout",
     "output_type": "stream",
     "text": [
      "Result on the tick bars method   : (114384506461.55592, 0.0), 158011, 723902.1742888528\n",
      "Result on the volume bars method : (35988604619717.53, 0.0), 453038, 79438379.60550226\n",
      "Result on the dollar bars method : (7067956584978.779, 0.0), 399519,  17691165.08846583\n"
     ]
    }
   ],
   "source": [
    "print(f\"Result on the tick bars method   : {stats.jarque_bera(tick_returns)}, {tick_returns.count()}, {stats.jarque_bera(tick_returns)[0]/tick_returns.count()}\")\n",
    "print(f\"Result on the volume bars method : {stats.jarque_bera(vol_returns)}, {vol_returns.count()}, {stats.jarque_bera(vol_returns)[0]/vol_returns.count()}\")\n",
    "print(f\"Result on the dollar bars method : {stats.jarque_bera(dollar_returns)}, {dollar_returns.count()},  {stats.jarque_bera(dollar_returns)[0]/dollar_returns.count()}\")"
   ]
  },
  {
   "cell_type": "markdown",
   "metadata": {},
   "source": [
    "First, we reject the null hypothesis joint of the skewness being zero and that the excess kurtosis is equal to zero as the p-value for the hypothesis test is zero. \n",
    "\n",
    "We cannot confirm that the dollar return method has the lowest test statistic\n",
    "\n",
    "TODO: Review this test and compare with other normality tests"
   ]
  },
  {
   "cell_type": "code",
   "execution_count": 25,
   "metadata": {},
   "outputs": [
    {
     "data": {
      "image/png": "[encoded data removed]",
      "text/plain": [
       "<Figure size 432x288 with 3 Axes>"
      ]
     },
     "metadata": {
      "needs_background": "light"
     },
     "output_type": "display_data"
    }
   ],
   "source": [
    "bins = np.arange(-0.6,0.6,0.01)\n",
    "fig, ax = plt.subplots(3,1)\n",
    "ax[0].hist(tick_returns, bins=bins)\n",
    "ax[0].set_title('tick')\n",
    "ax[1].hist(vol_returns, bins=bins)\n",
    "ax[1].set_title('vol')\n",
    "ax[2].hist(dollar_returns, bins=bins)\n",
    "ax[2].set_title('dollar')\n",
    "[a.set_yscale('log') for a in ax]\n",
    "fig.tight_layout()"
   ]
  },
  {
   "cell_type": "markdown",
   "metadata": {},
   "source": [
    "## Dollar Imbalance Bar\n",
    "\n",
    "The dollar imbalance bar DIB is defined as a T*-contiguous subset of ticks such that :\n",
    "$$\n",
    "\\begin{equation*}\n",
    "T^\\star = \\underset{T}{\\operatorname{argmax}} \\left(|\\theta_T|  \\geq E_0[T]|2\\nu^+ - E_0[\\nu_t]| \\right)\n",
    "\\end{equation*}\n",
    "$$\n",
    "where:\n",
    "- $E_0[T]$ can be estimated by a EWMA (exponentially weighted moving average of T values from prior bars)\n",
    "- $(2\\nu^+ - E_0[\\nu_t])$ as an EWMA of $b_t\\nu_t$\n",
    "- $\\theta_T = \\sum_{t=1}^T  b_t\\nu_t $ where $b_t$ is defined with the tick rule : \n",
    "$$\n",
    "\\begin{equation}\n",
    "  b_t = \n",
    "  \\begin{cases}\n",
    "    b_{t-1} & \\text{if $\\Delta_{p_t} = 0$} \\\\\n",
    "    \\frac{|\\Delta_{p_t}|}{\\Delta_{p_t}} & \\text{otherwise}\n",
    "  \\end{cases}\n",
    "\\end{equation}\n",
    "$$"
   ]
  },
  {
   "cell_type": "code",
   "execution_count": 28,
   "metadata": {},
   "outputs": [],
   "source": [
    "## b_t tick rule construction \n",
    "def tick_rule(deltapt):\n",
    "    if deltapt == 0:\n",
    "        return np.nan\n",
    "    else:\n",
    "        return abs(deltapt)/deltapt\n",
    "    \n",
    "dollar_df[\"bt\"] = dollar_df.price.diff().fillna(method='bfill').map(tick_rule).fillna(method='ffill')\n",
    "\n",
    "## theta_t calculation \n",
    "dollar_df[\"bt_vt\"] = dollar_df[\"bt\"].multiply(dollar_df.dollar_vol)\n",
    "\n",
    "dollar_df[\"theta\"] = dollar_df[\"bt_vt\"].cumsum()\n",
    "\n",
    "## EWMA of E[T] \n",
    "dollar_df[\"ET\"] = dollar_df[\"idx\"].ewm(span=100,min_periods=0,adjust=False,ignore_na=False).mean()\n",
    "dollar_df[\"Ebt_vt\"] = dollar_df[\"bt_vt\"].ewm(span=100,min_periods=0,adjust=False,ignore_na=False).mean()"
   ]
  },
  {
   "cell_type": "code",
   "execution_count": 29,
   "metadata": {},
   "outputs": [
    {
     "name": "stdout",
     "output_type": "stream",
     "text": [
      "                        price     bid     ask   vol  dollar_vol  \\\n",
      "date                                                              \n",
      "2019-03-21 15:58:06  113.7922  113.79  113.80  3400   386893.48   \n",
      "2019-03-21 15:58:33  113.8000  113.80  113.81   273    31067.40   \n",
      "2019-03-21 15:59:35  113.7700  113.77  113.79   400    45508.00   \n",
      "2019-03-21 15:59:52  113.7500  113.74  113.76   361    41063.75   \n",
      "2019-03-21 15:59:58  113.8100  113.80  113.81   654    74431.74   \n",
      "2019-03-21 15:59:58  113.8100  113.80  113.81   596    67830.76   \n",
      "2019-03-21 15:59:58  113.8100  113.80  113.81   644    73293.64   \n",
      "2019-03-21 16:00:00  113.7900  113.79  113.80  4551   517858.29   \n",
      "\n",
      "                     cum_dollar_vol  idx    diff  deltapt  tickrule   bt  \\\n",
      "date                                                                       \n",
      "2019-03-21 15:58:06      398385.260    1     NaN   0.0078       1.0  1.0   \n",
      "2019-03-21 15:58:33      117664.520    4  0.0078   0.0078       1.0  1.0   \n",
      "2019-03-21 15:59:35      128346.406   10 -0.0300  -0.0300      -1.0 -1.0   \n",
      "2019-03-21 15:59:52      126949.860   14 -0.0200  -0.0200      -1.0 -1.0   \n",
      "2019-03-21 15:59:58      158051.620   19  0.0600   0.0600       1.0  1.0   \n",
      "2019-03-21 15:59:58      118134.780   21  0.0000   0.0000       NaN  1.0   \n",
      "2019-03-21 15:59:58      147953.000   23  0.0000   0.0000       NaN  1.0   \n",
      "2019-03-21 16:00:00      517858.290   24 -0.0200  -0.0200      -1.0 -1.0   \n",
      "\n",
      "                       theta_t      bt_vt        ET         Ebt_vt  \n",
      "date                                                                \n",
      "2019-03-21 15:58:06  386893.48  386893.48  1.000000  386893.480000  \n",
      "2019-03-21 15:58:33  417960.88   31067.40  1.059406  379847.419010  \n",
      "2019-03-21 15:59:35  372452.88  -45508.00  1.236447  371424.539426  \n",
      "2019-03-21 15:59:52  331389.13  -41063.75  1.489191  363256.454486  \n",
      "2019-03-21 15:59:58  405820.87   74431.74  1.835940  357537.153209  \n",
      "2019-03-21 15:59:58  473651.63   67830.76  2.215426  351800.392948  \n",
      "2019-03-21 15:59:58  546945.27   73293.64  2.627002  346285.407741  \n",
      "2019-03-21 16:00:00   29086.98 -517858.29  3.050229  329173.651350  \n"
     ]
    }
   ],
   "source": [
    "# Tick rule explanation and verification\n",
    "# Initial data \n",
    "dollar_x[\"diff\"] = dollar_x.price.diff()\n",
    "# Delta p_t calculation\n",
    "dollar_x[\"deltapt\"] = dollar_x[\"diff\"].fillna(method='bfill')\n",
    "# Filling the initial condition with the next valid value\n",
    "dollar_x[\"tickrule\"] = dollar_x[\"deltapt\"].map(tick_rule)\n",
    "# Applying the tick rule \n",
    "dollar_x[\"bt\"] = dollar_x[\"tickrule\"].fillna(method='ffill')\n",
    "# If Delta pt = 0, give the previous value \n",
    "# Theta T construction \n",
    "dollar_x[\"theta_t\"] = dollar_x[\"bt\"].multiply(dollar_x.dollar_vol).cumsum()\n",
    "dollar_x[\"bt_vt\"] = dollar_x[\"bt\"].multiply(dollar_x.dollar_vol)\n",
    "\n",
    "# EWMA Estimation of E[T]\n",
    "dollar_x[\"ET\"] = dollar_x[\"idx\"].ewm(span=100,min_periods=0,adjust=False,ignore_na=False).mean()\n",
    "dollar_x[\"Ebt_vt\"] = dollar_x[\"bt_vt\"].ewm(span=100,min_periods=0,adjust=False,ignore_na=False).mean()\n",
    "\n",
    "print(f\"{dollar_x}\")"
   ]
  },
  {
   "cell_type": "code",
   "execution_count": null,
   "metadata": {},
   "outputs": [],
   "source": []
  }
 ],
 "metadata": {
  "kernelspec": {
   "display_name": "Python 3",
   "language": "python",
   "name": "python3"
  },
  "language_info": {
   "codemirror_mode": {
    "name": "ipython",
    "version": 3
   },
   "file_extension": ".py",
   "mimetype": "text/x-python",
   "name": "python",
   "nbconvert_exporter": "python",
   "pygments_lexer": "ipython3",
   "version": "3.7.2"
  }
 },
 "nbformat": 4,
 "nbformat_minor": 2
}
