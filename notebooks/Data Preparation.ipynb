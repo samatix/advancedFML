{
 "cells": [
  {
   "cell_type": "code",
   "execution_count": 6,
   "metadata": {},
   "outputs": [],
   "source": [
    "import numpy as np\n",
    "import pandas as pd \n",
    "from scipy import stats\n",
    "\n",
    "import matplotlib as mpl\n",
    "import matplotlib.pyplot as plt\n",
    "\n",
    "%matplotlib inline\n",
    "plt.style.use('ggplot')\n",
    "plt.style.use('ggplot')\n",
    "plt.rcParams['figure.figsize'] = 10,7\n",
    "\n",
    "import sys\n",
    "#sys.path.append('/Users/ayoubennassiri/Documents/Projects/advancedFML/src') #TODO: Change the append\n",
    "#sys.path.append('/Users/ayoubennassiri/Documents/Projects/advancedFML/')\n",
    "sys.path.append('../src') #TODO: Change the append\n",
    "sys.path.append('..')"
   ]
  },
  {
   "cell_type": "markdown",
   "metadata": {},
   "source": [
    "# Data Preparation\n",
    "- Download the data from: http://www.kibot.com/buy.aspx at the: \"Free historical data for your data quality analysis\" section\n",
    "\n",
    "- We have the data from the WDC stock and the iShares IVE ETF: https://www.ishares.com/us/products/239728/ishares-sp-500-value-etf\n",
    "\n",
    "## Tick Data info from kibot\n",
    "http://www.kibot.com/support.aspx#data_format\n",
    "\n",
    "- The order of the fields in the tick files (with bid/ask prices) is: Date,Time,Price,Bid,Ask,Size.\n",
    "- The bid/ask prices are recorded whenever a trade occurs and they represent the \"national best bid and offer\" (NBBO) prices across multiple exchanges and ECNs.\n",
    "- For each trade, current best bid/ask values are recorded together with the transaction price and volume. Trade records are not aggregated and all transactions are included in their consecutive order.\n",
    "- The order of fields in our regular tick files (without bid/ask) is: Date,Time,Price,Size.\n",
    "- The order of fields in our 1, 5 or 10 second files is: Date,Time,Open,High,Low,Close,Volume. It is the same format used in our minute files.\n",
    "- The stocks and ETFs data includes pre-market (8:00-9:30 a.m. ET), regular (9:30 a.m.-4:00 p.m. ET.) and after market (4:00-6:30 p.m. ET) sessions.\n",
    "- Trading for SPY (SPDR S&P 500 ETF) and some other liquid ETFs and stocks usually starts at 4 a.m and ends at 8 p.m. ET."
   ]
  },
  {
   "cell_type": "code",
   "execution_count": 9,
   "metadata": {},
   "outputs": [],
   "source": [
    "def prepare_data_kibot(raw_data_path, out_data_path):\n",
    "    df = pd.read_csv(raw_data_path,\n",
    "                     header=None,\n",
    "                     names=['day', 'time', 'price', 'bid', 'ask', 'vol'])\n",
    "    df['date'] = pd.to_datetime(df['day'] + df['time'],\n",
    "                                format='%m/%d/%Y%H:%M:%S')\n",
    "    df['dollar_vol'] = df['price']*df['vol']\n",
    "    df = df.set_index('date')\n",
    "    df = df.drop(['day', 'time'],\n",
    "                 axis=1)\n",
    "    df = df.drop_duplicates()\n",
    "    df.to_parquet(out_data_path)"
   ]
  },
  {
   "cell_type": "code",
   "execution_count": 12,
   "metadata": {
    "scrolled": true
   },
   "outputs": [
    {
     "name": "stderr",
     "output_type": "stream",
     "text": [
      "C:\\Users\\aennassiri\\AppData\\Local\\Continuum\\anaconda3\\envs\\advancesFML\\lib\\site-packages\\pyarrow\\pandas_compat.py:114: FutureWarning: A future version of pandas will default to `skipna=True`. To silence this warning, pass `skipna=True|False` explicitly.\n",
      "  result = infer_dtype(pandas_collection)\n"
     ]
    }
   ],
   "source": [
    "raw_data_path = '../data/raw/IVE_tickbidask.txt'\n",
    "out_data_path = '../data/interim/IVE_tickbidask.parq'\n",
    "prepare_data_kibot(raw_data_path, out_data_path)"
   ]
  },
  {
   "cell_type": "code",
   "execution_count": 13,
   "metadata": {},
   "outputs": [
    {
     "name": "stderr",
     "output_type": "stream",
     "text": [
      "C:\\Users\\aennassiri\\AppData\\Local\\Continuum\\anaconda3\\envs\\advancesFML\\lib\\site-packages\\pyarrow\\pandas_compat.py:708: FutureWarning: .labels was deprecated in version 0.24.0. Use .codes instead.\n",
      "  labels = getattr(columns, 'labels', None) or [\n",
      "C:\\Users\\aennassiri\\AppData\\Local\\Continuum\\anaconda3\\envs\\advancesFML\\lib\\site-packages\\pyarrow\\pandas_compat.py:735: FutureWarning: the 'labels' keyword is deprecated, use 'codes' instead\n",
      "  return pd.MultiIndex(levels=new_levels, labels=labels, names=columns.names)\n",
      "C:\\Users\\aennassiri\\AppData\\Local\\Continuum\\anaconda3\\envs\\advancesFML\\lib\\site-packages\\pyarrow\\pandas_compat.py:752: FutureWarning: .labels was deprecated in version 0.24.0. Use .codes instead.\n",
      "  labels, = index.labels\n"
     ]
    }
   ],
   "source": [
    "#out_data_path = '../data/interim/WDC_tickbidask.parq'\n",
    "out_data_path = '../data/interim/IVE_tickbidask.parq'\n",
    "df = pd.read_parquet(out_data_path)"
   ]
  },
  {
   "cell_type": "code",
   "execution_count": 14,
   "metadata": {},
   "outputs": [
    {
     "data": {
      "image/png": "[encoded data removed]",
      "text/plain": [
       "<Figure size 720x504 with 1 Axes>"
      ]
     },
     "metadata": {},
     "output_type": "display_data"
    }
   ],
   "source": [
    "fig, ax = plt.subplots()\n",
    "_ = ax.boxplot(df.price)"
   ]
  },
  {
   "cell_type": "markdown",
   "metadata": {},
   "source": [
    "### Outliers removal : \n",
    "- It computes the Z-score of each value in the column, relative to the column mean and standard deviation.\n",
    "- Then is takes the absolute of Z-score because the direction does not matter, only if it is below the threshold.\n",
    "- If other columns than the prices is needed (e.g bid, ask, vol), this function usage should be extended\n",
    "- Finally, result of this condition is used to index the dataframe."
   ]
  },
  {
   "cell_type": "code",
   "execution_count": 15,
   "metadata": {},
   "outputs": [],
   "source": [
    "outliers = (np.abs(stats.zscore(df.price)) > 3)"
   ]
  },
  {
   "cell_type": "code",
   "execution_count": 16,
   "metadata": {},
   "outputs": [
    {
     "data": {
      "text/html": [
       "<div>\n",
       "<style scoped>\n",
       "    .dataframe tbody tr th:only-of-type {\n",
       "        vertical-align: middle;\n",
       "    }\n",
       "\n",
       "    .dataframe tbody tr th {\n",
       "        vertical-align: top;\n",
       "    }\n",
       "\n",
       "    .dataframe thead th {\n",
       "        text-align: right;\n",
       "    }\n",
       "</style>\n",
       "<table border=\"1\" class=\"dataframe\">\n",
       "  <thead>\n",
       "    <tr style=\"text-align: right;\">\n",
       "      <th></th>\n",
       "      <th>price</th>\n",
       "      <th>bid</th>\n",
       "      <th>ask</th>\n",
       "      <th>vol</th>\n",
       "      <th>dollar_vol</th>\n",
       "    </tr>\n",
       "    <tr>\n",
       "      <th>date</th>\n",
       "      <th></th>\n",
       "      <th></th>\n",
       "      <th></th>\n",
       "      <th></th>\n",
       "      <th></th>\n",
       "    </tr>\n",
       "  </thead>\n",
       "  <tbody>\n",
       "    <tr>\n",
       "      <th>2010-05-06 14:49:07</th>\n",
       "      <td>0.11</td>\n",
       "      <td>0.10</td>\n",
       "      <td>44.03</td>\n",
       "      <td>500</td>\n",
       "      <td>55.0</td>\n",
       "    </tr>\n",
       "    <tr>\n",
       "      <th>2010-05-06 14:53:30</th>\n",
       "      <td>1.10</td>\n",
       "      <td>1.10</td>\n",
       "      <td>30.28</td>\n",
       "      <td>2600</td>\n",
       "      <td>2860.0</td>\n",
       "    </tr>\n",
       "    <tr>\n",
       "      <th>2010-05-06 14:55:32</th>\n",
       "      <td>1.10</td>\n",
       "      <td>1.10</td>\n",
       "      <td>50.57</td>\n",
       "      <td>300</td>\n",
       "      <td>330.0</td>\n",
       "    </tr>\n",
       "    <tr>\n",
       "      <th>2010-05-06 14:55:32</th>\n",
       "      <td>1.10</td>\n",
       "      <td>1.10</td>\n",
       "      <td>50.57</td>\n",
       "      <td>100</td>\n",
       "      <td>110.0</td>\n",
       "    </tr>\n",
       "    <tr>\n",
       "      <th>2010-05-06 14:55:32</th>\n",
       "      <td>1.10</td>\n",
       "      <td>1.00</td>\n",
       "      <td>50.57</td>\n",
       "      <td>200</td>\n",
       "      <td>220.0</td>\n",
       "    </tr>\n",
       "    <tr>\n",
       "      <th>2010-05-06 14:55:32</th>\n",
       "      <td>1.10</td>\n",
       "      <td>1.00</td>\n",
       "      <td>50.57</td>\n",
       "      <td>700</td>\n",
       "      <td>770.0</td>\n",
       "    </tr>\n",
       "    <tr>\n",
       "      <th>2010-05-06 14:55:32</th>\n",
       "      <td>1.10</td>\n",
       "      <td>1.00</td>\n",
       "      <td>50.57</td>\n",
       "      <td>1200</td>\n",
       "      <td>1320.0</td>\n",
       "    </tr>\n",
       "    <tr>\n",
       "      <th>2010-05-06 14:55:32</th>\n",
       "      <td>1.10</td>\n",
       "      <td>0.55</td>\n",
       "      <td>50.57</td>\n",
       "      <td>500</td>\n",
       "      <td>550.0</td>\n",
       "    </tr>\n",
       "    <tr>\n",
       "      <th>2010-05-06 14:55:32</th>\n",
       "      <td>1.10</td>\n",
       "      <td>0.55</td>\n",
       "      <td>50.57</td>\n",
       "      <td>100</td>\n",
       "      <td>110.0</td>\n",
       "    </tr>\n",
       "    <tr>\n",
       "      <th>2010-05-06 14:55:32</th>\n",
       "      <td>1.10</td>\n",
       "      <td>0.55</td>\n",
       "      <td>50.57</td>\n",
       "      <td>200</td>\n",
       "      <td>220.0</td>\n",
       "    </tr>\n",
       "    <tr>\n",
       "      <th>2010-05-06 14:55:32</th>\n",
       "      <td>1.10</td>\n",
       "      <td>0.55</td>\n",
       "      <td>50.57</td>\n",
       "      <td>800</td>\n",
       "      <td>880.0</td>\n",
       "    </tr>\n",
       "  </tbody>\n",
       "</table>\n",
       "</div>"
      ],
      "text/plain": [
       "                     price   bid    ask   vol  dollar_vol\n",
       "date                                                     \n",
       "2010-05-06 14:49:07   0.11  0.10  44.03   500        55.0\n",
       "2010-05-06 14:53:30   1.10  1.10  30.28  2600      2860.0\n",
       "2010-05-06 14:55:32   1.10  1.10  50.57   300       330.0\n",
       "2010-05-06 14:55:32   1.10  1.10  50.57   100       110.0\n",
       "2010-05-06 14:55:32   1.10  1.00  50.57   200       220.0\n",
       "2010-05-06 14:55:32   1.10  1.00  50.57   700       770.0\n",
       "2010-05-06 14:55:32   1.10  1.00  50.57  1200      1320.0\n",
       "2010-05-06 14:55:32   1.10  0.55  50.57   500       550.0\n",
       "2010-05-06 14:55:32   1.10  0.55  50.57   100       110.0\n",
       "2010-05-06 14:55:32   1.10  0.55  50.57   200       220.0\n",
       "2010-05-06 14:55:32   1.10  0.55  50.57   800       880.0"
      ]
     },
     "execution_count": 16,
     "metadata": {},
     "output_type": "execute_result"
    }
   ],
   "source": [
    "# Outliers list\n",
    "df.loc[outliers]"
   ]
  },
  {
   "cell_type": "code",
   "execution_count": 17,
   "metadata": {},
   "outputs": [
    {
     "data": {
      "image/png": "[encoded data removed]",
      "text/plain": [
       "<Figure size 720x504 with 1 Axes>"
      ]
     },
     "metadata": {},
     "output_type": "display_data"
    }
   ],
   "source": [
    "#clean_data_path = '../data/processed/clean_WDC_tickbidask.parq'\n",
    "clean_data_path = '../data/processed/clean_IVE_tickbidask.parq'\n",
    "\n",
    "df = df.loc[~outliers]\n",
    "\n",
    "fig, ax = plt.subplots()\n",
    "_ = ax.boxplot(df.price)\n",
    "\n",
    "df.to_parquet(clean_data_path)"
   ]
  },
  {
   "cell_type": "code",
   "execution_count": null,
   "metadata": {},
   "outputs": [],
   "source": []
  }
 ],
 "metadata": {
  "kernelspec": {
   "display_name": "Python 3",
   "language": "python",
   "name": "python3"
  },
  "language_info": {
   "codemirror_mode": {
    "name": "ipython",
    "version": 3
   },
   "file_extension": ".py",
   "mimetype": "text/x-python",
   "name": "python",
   "nbconvert_exporter": "python",
   "pygments_lexer": "ipython3",
   "version": "3.7.2"
  }
 },
 "nbformat": 4,
 "nbformat_minor": 2
}
